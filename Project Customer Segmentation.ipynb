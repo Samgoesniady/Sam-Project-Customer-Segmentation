{
 "cells": [
  {
   "cell_type": "markdown",
   "metadata": {
    "id": "F7GkgRX0kE8X"
   },
   "source": [
    "# Cluster"
   ]
  },
  {
   "cell_type": "markdown",
   "metadata": {
    "id": "0Ot1ME_ikE8Y"
   },
   "source": [
    "Clustering dilakukan untuk mengidentifikasi pola atau kelompok serupa dari kumpulan data yang diamati. "
   ]
  },
  {
   "cell_type": "markdown",
   "metadata": {
    "id": "eEi_kSxKkE8Z"
   },
   "source": [
    "## K Means Clustering Algorithm"
   ]
  },
  {
   "cell_type": "markdown",
   "metadata": {
    "id": "rV9SaqqCOJOi"
   },
   "source": [
    "Algoritma k-means melakukan pengelompokan sejumlah k kelompok, dengan pendekatan titik data terdekat akan berkumpul sedangkan yang memiliki karakteristik data berbeda, akan membuat kelompok yang berbeda. "
   ]
  },
  {
   "cell_type": "markdown",
   "metadata": {
    "id": "jWsojK76ONCK"
   },
   "source": [
    "Berikut tahapan dalam melakukan K-Means clustering : "
   ]
  },
  {
   "cell_type": "markdown",
   "metadata": {
    "id": "eccn6ez8kE8Z"
   },
   "source": [
    "\n",
    "\n",
    "*   Menentukan jumlah cluster (kelompok), nilai K\n",
    "*   Melakukan perhitungan nilai sentral (centroid) \n",
    "*   Menghitung euclidean yaitu jarak setiap titik pada nilai sentral\n",
    "*   Melakukan pengelompokan setiap titik data berdasarkan jarak terdekat\n",
    "*   Terus dilakukan iterasi sampai tidak ada perubahan nilai sentral\n",
    "\n",
    "\n",
    "\n",
    "\n",
    "\n"
   ]
  },
  {
   "cell_type": "markdown",
   "metadata": {
    "id": "cg1JY1yWkE8i"
   },
   "source": [
    "# Studi Kasus"
   ]
  },
  {
   "cell_type": "markdown",
   "metadata": {
    "id": "iz4rY2n9kE8i"
   },
   "source": [
    "Segmentasi Pelanggan adalah pembagian pasar ke dalam kelompok pelanggan terpisah yang memiliki karakteristik serupa. Segmentasi Pelanggan dapat menjadi sarana yang ampuh untuk mengidentifikasi kebutuhan pelanggan yang tidak terpuaskan. \n",
    "\n",
    "Dari data-data yang terkumpul, perusahaan dapat mengungguli persaingan dengan mengembangkan produk dan layanan yang unik dan menarik sesuai dengan karakteristik pelanggan.\n"
   ]
  },
  {
   "cell_type": "markdown",
   "metadata": {
    "id": "wfKMMwWwTN1O"
   },
   "source": [
    "Secara umum pengelompokan pelanggan dapat dilakukan dengan faktor-faktor berikut:\n",
    "\n",
    "*   Informasi demografis, seperti jenis kelamin, usia, status keluarga dan perkawinan, pendapatan, pendidikan, dan pekerjaan.\n",
    "*   Informasi geografis, yang berbeda-beda bergantung pada ruang lingkup perusahaan. Untuk bisnis yang bersifat lokal, info berkaitan dengan kota atau kabupaten tertentu. Untuk perusahaan yang lebih besar, dapat menggunakan kota pelanggan, negara bagian, atau bahkan negara tempat tinggal.\n",
    "*   Psikografik, seperti kelas sosial, gaya hidup, dan ciri-ciri kepribadian.\n",
    "*   Data perilaku, seperti kebiasaan belanja dan konsumsi, penggunaan produk / jasa, dan manfaat yang diinginkan.\n",
    "\n",
    "Dari data-data yang terkumpul, perusahaan dapat mengungguli persaingan dengan mengembangkan produk dan layanan yang unik dan menarik sesuai dengan karakteristik pelanggan.\n",
    "\n",
    "\n"
   ]
  },
  {
   "cell_type": "markdown",
   "metadata": {
    "id": "4p7ImtidT1So"
   },
   "source": [
    "Pada studi kasus ini anda akan diberikan data pelanggan dengan informasi sebagai berikut : <br>\n",
    "- Nama Pelanggan : berisi informasi nama-nama pelanggan.\n",
    "- Jenis kelamin : berisi informasi jenis kelamin dari pelanggan (Pria, Wanita).\n",
    "- Umur : berisi informasi usia pelanggan.\n",
    "- Profesi : berisi informasi jenis profesi/pekerjaan tiap pelanggan.\n",
    "- Tipe Residen : berisi informasi mengenai jenis tempat tinggal.\n",
    "- NilaiBelanjaSetahun : berisi informasi total pengeluaran dalam waktu satu tahun dalam mata uang dollar.\n",
    "\n",
    "Selanjutnya, Perusahaan ingin melihat behavior dari pelanggan dengan membaginya berdasarkan kelompok-kelompok tertentu. Bagaimana cara melakukannya ?"
   ]
  },
  {
   "cell_type": "markdown",
   "metadata": {
    "id": "Hv1ac7niWdfG"
   },
   "source": [
    "## Import Libraries and Data"
   ]
  },
  {
   "cell_type": "code",
   "execution_count": 1,
   "metadata": {
    "colab": {
     "base_uri": "https://localhost:8080/"
    },
    "executionInfo": {
     "elapsed": 21990,
     "status": "ok",
     "timestamp": 1629038379027,
     "user": {
      "displayName": "Rahayu Oktavia Putri",
      "photoUrl": "",
      "userId": "02165658332696555094"
     },
     "user_tz": -420
    },
    "id": "LEpeS5LMWn_l",
    "outputId": "27b2f30d-f938-4524-ede0-c3d8e2cb459c"
   },
   "outputs": [
    {
     "name": "stdout",
     "output_type": "stream",
     "text": [
      "Mounted at /content/gdrive\n"
     ]
    }
   ],
   "source": [
    "# connect colab ke g drive\n",
    "from google.colab import drive\n",
    "drive.mount('/content/gdrive')"
   ]
  },
  {
   "cell_type": "code",
   "execution_count": 2,
   "metadata": {
    "executionInfo": {
     "elapsed": 1536,
     "status": "ok",
     "timestamp": 1629038383278,
     "user": {
      "displayName": "Rahayu Oktavia Putri",
      "photoUrl": "",
      "userId": "02165658332696555094"
     },
     "user_tz": -420
    },
    "id": "05cDrDDtkE8i"
   },
   "outputs": [],
   "source": [
    "# import package\n",
    "import os\n",
    "import pandas as pd\n",
    "import numpy as np\n",
    "from sklearn.preprocessing import LabelEncoder, StandardScaler\n",
    "from sklearn.cluster import KMeans\n",
    "from sklearn.metrics import silhouette_score\n",
    "\n",
    "# Package untuk visualisasi\n",
    "import seaborn as sns\n",
    "import matplotlib.pyplot as plt"
   ]
  },
  {
   "cell_type": "code",
   "execution_count": 3,
   "metadata": {
    "colab": {
     "base_uri": "https://localhost:8080/"
    },
    "executionInfo": {
     "elapsed": 1997,
     "status": "ok",
     "timestamp": 1629038385264,
     "user": {
      "displayName": "Rahayu Oktavia Putri",
      "photoUrl": "",
      "userId": "02165658332696555094"
     },
     "user_tz": -420
    },
    "id": "m8f52t5gH8o1",
    "outputId": "942a2552-b2f4-4b97-d268-c3b7fa7b13a7"
   },
   "outputs": [
    {
     "data": {
      "text/plain": [
       "['customer_segments.csv']"
      ]
     },
     "execution_count": 3,
     "metadata": {
      "tags": []
     },
     "output_type": "execute_result"
    }
   ],
   "source": [
    "# Membuat path untuk mengidentifikasi letak directory\n",
    "# Catatan : pastikan path yang anda masukkan sesuai dengan directory data anda. Kemungkinan besar path di contoh ini berbeda dengan penyimpanan data anda\n",
    "path = 'gdrive/My Drive/narasio_data/Class Division/Summer Class/Review Intermediate/Meet 4 Clustering/Data'\n",
    "\n",
    "# Cek directory\n",
    "os.listdir(path)"
   ]
  },
  {
   "cell_type": "code",
   "execution_count": 4,
   "metadata": {
    "colab": {
     "base_uri": "https://localhost:8080/",
     "height": 202
    },
    "executionInfo": {
     "elapsed": 27,
     "status": "ok",
     "timestamp": 1629038385266,
     "user": {
      "displayName": "Rahayu Oktavia Putri",
      "photoUrl": "",
      "userId": "02165658332696555094"
     },
     "user_tz": -420
    },
    "id": "eMJd8aXckE8j",
    "outputId": "b55ec6e6-2981-4fbc-8814-b2a2f8a10c54"
   },
   "outputs": [
    {
     "data": {
      "text/html": [
       "<div>\n",
       "<style scoped>\n",
       "    .dataframe tbody tr th:only-of-type {\n",
       "        vertical-align: middle;\n",
       "    }\n",
       "\n",
       "    .dataframe tbody tr th {\n",
       "        vertical-align: top;\n",
       "    }\n",
       "\n",
       "    .dataframe thead th {\n",
       "        text-align: right;\n",
       "    }\n",
       "</style>\n",
       "<table border=\"1\" class=\"dataframe\">\n",
       "  <thead>\n",
       "    <tr style=\"text-align: right;\">\n",
       "      <th></th>\n",
       "      <th>Nama Pelanggan</th>\n",
       "      <th>Jenis Kelamin</th>\n",
       "      <th>Umur</th>\n",
       "      <th>Profesi</th>\n",
       "      <th>Tipe Residen</th>\n",
       "      <th>NilaiBelanjaSetahun</th>\n",
       "    </tr>\n",
       "  </thead>\n",
       "  <tbody>\n",
       "    <tr>\n",
       "      <th>0</th>\n",
       "      <td>Budi Anggara</td>\n",
       "      <td>Pria</td>\n",
       "      <td>58</td>\n",
       "      <td>Wiraswasta</td>\n",
       "      <td>Sector</td>\n",
       "      <td>9497927</td>\n",
       "    </tr>\n",
       "    <tr>\n",
       "      <th>1</th>\n",
       "      <td>Shirley Ratuwati</td>\n",
       "      <td>Wanita</td>\n",
       "      <td>14</td>\n",
       "      <td>Pelajar</td>\n",
       "      <td>Cluster</td>\n",
       "      <td>2722700</td>\n",
       "    </tr>\n",
       "    <tr>\n",
       "      <th>2</th>\n",
       "      <td>Agus Cahyono</td>\n",
       "      <td>Pria</td>\n",
       "      <td>48</td>\n",
       "      <td>Professional</td>\n",
       "      <td>Cluster</td>\n",
       "      <td>5286429</td>\n",
       "    </tr>\n",
       "    <tr>\n",
       "      <th>3</th>\n",
       "      <td>Antonius Winarta</td>\n",
       "      <td>Pria</td>\n",
       "      <td>53</td>\n",
       "      <td>Professional</td>\n",
       "      <td>Cluster</td>\n",
       "      <td>5204498</td>\n",
       "    </tr>\n",
       "    <tr>\n",
       "      <th>4</th>\n",
       "      <td>Ibu Sri Wahyuni, IR</td>\n",
       "      <td>Wanita</td>\n",
       "      <td>41</td>\n",
       "      <td>Wiraswasta</td>\n",
       "      <td>Cluster</td>\n",
       "      <td>10615206</td>\n",
       "    </tr>\n",
       "  </tbody>\n",
       "</table>\n",
       "</div>"
      ],
      "text/plain": [
       "        Nama Pelanggan Jenis Kelamin  ...  Tipe Residen NilaiBelanjaSetahun\n",
       "0         Budi Anggara          Pria  ...        Sector             9497927\n",
       "1     Shirley Ratuwati        Wanita  ...       Cluster             2722700\n",
       "2         Agus Cahyono          Pria  ...       Cluster             5286429\n",
       "3     Antonius Winarta          Pria  ...       Cluster             5204498\n",
       "4  Ibu Sri Wahyuni, IR        Wanita  ...       Cluster            10615206\n",
       "\n",
       "[5 rows x 6 columns]"
      ]
     },
     "execution_count": 4,
     "metadata": {
      "tags": []
     },
     "output_type": "execute_result"
    }
   ],
   "source": [
    "# Load data\n",
    "customer_data = pd.read_csv(os.path.join(path, \"customer_segments.csv\"))\n",
    "customer_data.head()"
   ]
  },
  {
   "cell_type": "markdown",
   "metadata": {
    "id": "AeONXYmnZJUw"
   },
   "source": [
    "Dalam melakukan machine learning, perlu diketahui terlebih dahulu apakah terdapat data kategorikal dalam data anda. Keberadaan kategori data membutuhkan 1 step tambahan dalam mengeksekusinya."
   ]
  },
  {
   "cell_type": "code",
   "execution_count": 5,
   "metadata": {
    "colab": {
     "base_uri": "https://localhost:8080/",
     "height": 202
    },
    "executionInfo": {
     "elapsed": 310,
     "status": "ok",
     "timestamp": 1629038401600,
     "user": {
      "displayName": "Rahayu Oktavia Putri",
      "photoUrl": "",
      "userId": "02165658332696555094"
     },
     "user_tz": -420
    },
    "id": "zjwwzDGAkE8k",
    "outputId": "eb2708b4-5dbe-460d-d415-f33fcbaf688a"
   },
   "outputs": [
    {
     "data": {
      "text/html": [
       "<div>\n",
       "<style scoped>\n",
       "    .dataframe tbody tr th:only-of-type {\n",
       "        vertical-align: middle;\n",
       "    }\n",
       "\n",
       "    .dataframe tbody tr th {\n",
       "        vertical-align: top;\n",
       "    }\n",
       "\n",
       "    .dataframe thead th {\n",
       "        text-align: right;\n",
       "    }\n",
       "</style>\n",
       "<table border=\"1\" class=\"dataframe\">\n",
       "  <thead>\n",
       "    <tr style=\"text-align: right;\">\n",
       "      <th></th>\n",
       "      <th>Jenis Kelamin</th>\n",
       "      <th>Profesi</th>\n",
       "      <th>Tipe Residen</th>\n",
       "    </tr>\n",
       "  </thead>\n",
       "  <tbody>\n",
       "    <tr>\n",
       "      <th>0</th>\n",
       "      <td>Pria</td>\n",
       "      <td>Wiraswasta</td>\n",
       "      <td>Sector</td>\n",
       "    </tr>\n",
       "    <tr>\n",
       "      <th>1</th>\n",
       "      <td>Wanita</td>\n",
       "      <td>Pelajar</td>\n",
       "      <td>Cluster</td>\n",
       "    </tr>\n",
       "    <tr>\n",
       "      <th>2</th>\n",
       "      <td>Pria</td>\n",
       "      <td>Professional</td>\n",
       "      <td>Cluster</td>\n",
       "    </tr>\n",
       "    <tr>\n",
       "      <th>3</th>\n",
       "      <td>Pria</td>\n",
       "      <td>Professional</td>\n",
       "      <td>Cluster</td>\n",
       "    </tr>\n",
       "    <tr>\n",
       "      <th>4</th>\n",
       "      <td>Wanita</td>\n",
       "      <td>Wiraswasta</td>\n",
       "      <td>Cluster</td>\n",
       "    </tr>\n",
       "  </tbody>\n",
       "</table>\n",
       "</div>"
      ],
      "text/plain": [
       "  Jenis Kelamin       Profesi Tipe Residen\n",
       "0          Pria    Wiraswasta       Sector\n",
       "1        Wanita       Pelajar      Cluster\n",
       "2          Pria  Professional      Cluster\n",
       "3          Pria  Professional      Cluster\n",
       "4        Wanita    Wiraswasta      Cluster"
      ]
     },
     "execution_count": 5,
     "metadata": {
      "tags": []
     },
     "output_type": "execute_result"
    }
   ],
   "source": [
    "# Data kategori\n",
    "categorical = [\"Jenis Kelamin\", \"Profesi\", \"Tipe Residen\"]\n",
    "df_categorical = customer_data[categorical]\n",
    "df_categorical.head()"
   ]
  },
  {
   "cell_type": "markdown",
   "metadata": {
    "id": "LlIjc1XzX-VQ"
   },
   "source": [
    "> **Dalam materi ini, data preprocessing seperti cek missing value, duplicate data, data type tidak akan dilakukan, karena fokus dari materi adalah pada clustering. Anda dapat membuka kembali materi sebelumnya dan menerapkankan sendiri dalam materi ini jika ingin menganalisis secara lengkap.**"
   ]
  },
  {
   "cell_type": "markdown",
   "metadata": {
    "id": "qdUBusj8kE8k"
   },
   "source": [
    "## Exploratory Data Analysis (EDA)"
   ]
  },
  {
   "cell_type": "markdown",
   "metadata": {
    "id": "CgCoagyeUaZm"
   },
   "source": [
    "Exploratory Data Analysis (EDA) adalah proses eksplorasi data yang bertujuan untuk memahami isi dan komponen penyusun data.\n",
    "<br>\n",
    "<br>\n",
    "**Bagaimana persebaran usia pelanggan saat ini ?**\n",
    "<br>\n",
    "Untuk mencari tahu distribusi usia pelanggan, anda dapat memvisualisasikannya dengan boxplot."
   ]
  },
  {
   "cell_type": "code",
   "execution_count": 6,
   "metadata": {
    "colab": {
     "base_uri": "https://localhost:8080/",
     "height": 349
    },
    "executionInfo": {
     "elapsed": 375,
     "status": "ok",
     "timestamp": 1629038412657,
     "user": {
      "displayName": "Rahayu Oktavia Putri",
      "photoUrl": "",
      "userId": "02165658332696555094"
     },
     "user_tz": -420
    },
    "id": "lHf9snBBbHUL",
    "outputId": "00337589-1634-4480-c604-fcd86c0c77fd"
   },
   "outputs": [
    {
     "name": "stderr",
     "output_type": "stream",
     "text": [
      "/usr/local/lib/python3.7/dist-packages/seaborn/_decorators.py:43: FutureWarning: Pass the following variable as a keyword arg: x. From version 0.12, the only valid positional argument will be `data`, and passing other arguments without an explicit keyword will result in an error or misinterpretation.\n",
      "  FutureWarning\n"
     ]
    },
    {
     "data": {
      "text/plain": [
       "<matplotlib.axes._subplots.AxesSubplot at 0x7ff4b4004b90>"
      ]
     },
     "execution_count": 6,
     "metadata": {
      "tags": []
     },
     "output_type": "execute_result"
    },
    {
     "data": {
      "image/png": "[encoded data removed]",
      "text/plain": [
       "<Figure size 432x288 with 1 Axes>"
      ]
     },
     "metadata": {
      "needs_background": "light",
      "tags": []
     },
     "output_type": "display_data"
    }
   ],
   "source": [
    "# Persebaran usia pelanggan\n",
    "sns.boxplot(customer_data[\"Umur\"])"
   ]
  },
  {
   "cell_type": "markdown",
   "metadata": {
    "id": "SFbdgsc_bXUm"
   },
   "source": [
    "Dari visualisasi diatas diketahui bahwa persebaran usia pelanggan berada pada range < 20 tahun hingga > 60 tahun.\n",
    "<br>\n",
    "<br>\n",
    "**Bagaimana proporsi usia pelanggan?**\n",
    "<br>\n",
    "Cara mengetahui usia pelanggan adalah dengan membagi pelanggan kedalam kelompok-kelompok berdasarkan usianya. Dalam kasus ini kita akan membagi pelanggan dengan range usia 10 tahun pada tiap kelompok."
   ]
  },
  {
   "cell_type": "code",
   "execution_count": 7,
   "metadata": {
    "colab": {
     "base_uri": "https://localhost:8080/",
     "height": 404
    },
    "executionInfo": {
     "elapsed": 357,
     "status": "ok",
     "timestamp": 1629038416221,
     "user": {
      "displayName": "Rahayu Oktavia Putri",
      "photoUrl": "",
      "userId": "02165658332696555094"
     },
     "user_tz": -420
    },
    "id": "Epj6F51hkE8k",
    "outputId": "15081a92-d80d-4e21-ef8c-aef715a596bc"
   },
   "outputs": [
    {
     "data": {
      "image/png": "[encoded data removed]",
      "text/plain": [
       "<Figure size 1080x432 with 1 Axes>"
      ]
     },
     "metadata": {
      "needs_background": "light",
      "tags": []
     },
     "output_type": "display_data"
    }
   ],
   "source": [
    "# Menggolongkan usia dan melihat persebarannya dalam data\n",
    "age25below = customer_data.Umur[(customer_data.Umur <= 25) & (customer_data.Umur >= 12)]\n",
    "age26_35 = customer_data.Umur[(customer_data.Umur <= 35) & (customer_data.Umur >= 26)]\n",
    "age36_45 = customer_data.Umur[(customer_data.Umur <= 45) & (customer_data.Umur >= 36)]\n",
    "age46_55 = customer_data.Umur[(customer_data.Umur <= 55) & (customer_data.Umur >= 46)]\n",
    "age55above = customer_data.Umur[customer_data.Umur >= 56]\n",
    "\n",
    "x = [\"25-\",\"26-35\",\"36-45\",\"46-55\",\"55+\"]\n",
    "y = [len(age25below.values),len(age26_35.values),len(age36_45.values),len(age46_55.values),len(age55above.values)]\n",
    "\n",
    "plt.figure(figsize=(15,6))\n",
    "sns.barplot(x=x, y=y, palette=\"rocket\")\n",
    "plt.title(\"Number of Customer and Ages\")\n",
    "plt.xlabel(\"Age\")\n",
    "plt.ylabel(\"Number of Customer\")\n",
    "plt.show()"
   ]
  },
  {
   "cell_type": "markdown",
   "metadata": {
    "id": "Kyx56NFadRyP"
   },
   "source": [
    "Dari gambar diatas diketahui bahwa usia proporsi usia pelanggan terbanyak adalah pada kisaran usia kurang dari sama dengan 25 tahun, disusul dengan range usia 26-35 dan 46-55 tahun.\n",
    "<br>\n",
    "<br>\n",
    "**Lalu, bagaimana dengan persebaran total belanja tiap tahunnya?**\n",
    "<br>\n",
    "Lakukan langkah yang sama seperti sebelumnya untuk mencari tahu persebaran total belanja pelanggan."
   ]
  },
  {
   "cell_type": "code",
   "execution_count": 8,
   "metadata": {
    "colab": {
     "base_uri": "https://localhost:8080/",
     "height": 349
    },
    "executionInfo": {
     "elapsed": 337,
     "status": "ok",
     "timestamp": 1629038418392,
     "user": {
      "displayName": "Rahayu Oktavia Putri",
      "photoUrl": "",
      "userId": "02165658332696555094"
     },
     "user_tz": -420
    },
    "id": "IHl4j63ekE8k",
    "outputId": "58654b21-b0df-46fb-9c72-ca1e8dbf9f02"
   },
   "outputs": [
    {
     "name": "stderr",
     "output_type": "stream",
     "text": [
      "/usr/local/lib/python3.7/dist-packages/seaborn/_decorators.py:43: FutureWarning: Pass the following variable as a keyword arg: x. From version 0.12, the only valid positional argument will be `data`, and passing other arguments without an explicit keyword will result in an error or misinterpretation.\n",
      "  FutureWarning\n"
     ]
    },
    {
     "data": {
      "text/plain": [
       "<matplotlib.axes._subplots.AxesSubplot at 0x7ff49c3f8810>"
      ]
     },
     "execution_count": 8,
     "metadata": {
      "tags": []
     },
     "output_type": "execute_result"
    },
    {
     "data": {
      "image/png": "[encoded data removed]",
      "text/plain": [
       "<Figure size 432x288 with 1 Axes>"
      ]
     },
     "metadata": {
      "needs_background": "light",
      "tags": []
     },
     "output_type": "display_data"
    }
   ],
   "source": [
    "# Persebaran belanja selama setahun\n",
    "sns.boxplot(customer_data[\"NilaiBelanjaSetahun\"])"
   ]
  },
  {
   "cell_type": "markdown",
   "metadata": {
    "id": "hEOPLUMoeDbt"
   },
   "source": [
    "Rata-rata total belanja setahun adalah pada nilai 0.6 x 10^7 dollar.\n",
    "<br>\n",
    "<br>\n",
    "**Bagaimana kondisi gender, profesi, dan tipe residen?**\n",
    "<br>\n",
    "Dibawah akan digunakan bar chart untuk mencari tahu proporsi tiap variabel dalam data"
   ]
  },
  {
   "cell_type": "code",
   "execution_count": 9,
   "metadata": {
    "colab": {
     "base_uri": "https://localhost:8080/",
     "height": 1000
    },
    "executionInfo": {
     "elapsed": 934,
     "status": "ok",
     "timestamp": 1629038422953,
     "user": {
      "displayName": "Rahayu Oktavia Putri",
      "photoUrl": "",
      "userId": "02165658332696555094"
     },
     "user_tz": -420
    },
    "id": "rTRVgp87kE8l",
    "outputId": "6645c379-10fa-40c9-823d-c98bc635cfe6"
   },
   "outputs": [
    {
     "data": {
      "image/png": "[encoded data removed]",
      "text/plain": [
       "<Figure size 576x432 with 1 Axes>"
      ]
     },
     "metadata": {
      "needs_background": "light",
      "tags": []
     },
     "output_type": "display_data"
    },
    {
     "data": {
      "image/png": "[encoded data removed]",
      "text/plain": [
       "<Figure size 576x432 with 1 Axes>"
      ]
     },
     "metadata": {
      "needs_background": "light",
      "tags": []
     },
     "output_type": "display_data"
    },
    {
     "data": {
      "image/png": "[encoded data removed]",
      "text/plain": [
       "<Figure size 576x432 with 1 Axes>"
      ]
     },
     "metadata": {
      "needs_background": "light",
      "tags": []
     },
     "output_type": "display_data"
    }
   ],
   "source": [
    "# Melihat perbandingan data kategori disetiap kolom\n",
    "for col in categorical:\n",
    "    plt.figure(figsize=(8,6))\n",
    "    sns.countplot(x=col, data=customer_data)\n",
    "    plt.tight_layout()"
   ]
  },
  {
   "cell_type": "markdown",
   "metadata": {
    "id": "k3stOQiXfaFx"
   },
   "source": [
    "Saat ini pelanggan terbanyak adalah wanita, untuk profesi yang mendominasi adalah wiraswasta, sedangkan tipe residen yang terecord paling banyak memiliki tipe residen cluster."
   ]
  },
  {
   "cell_type": "markdown",
   "metadata": {
    "id": "ybN-zvjYkE8l"
   },
   "source": [
    "## Data Preprocessing"
   ]
  },
  {
   "cell_type": "markdown",
   "metadata": {
    "id": "6xBG2GAySAFw"
   },
   "source": [
    "### Encode Categorical"
   ]
  },
  {
   "cell_type": "markdown",
   "metadata": {
    "id": "7Wexf1qGVt8x"
   },
   "source": [
    "Pemrosesan data adalah jenis pemrosesan yang dapat mengubah data menjadi informasi yang siap digunakan dalam studi kasus. Dalam Machine Learning, anda tidak dapat langsung mengeksekusi data yang berbentuk string, oleh karena itu perlu dilakukan transformasi dari string kedalam bentuk numerik. Di python, terdapat library yang mensupport permasalahan ini, salah satunya yaitu dengan LabelEncoder() method."
   ]
  },
  {
   "cell_type": "code",
   "execution_count": 24,
   "metadata": {
    "colab": {
     "base_uri": "https://localhost:8080/",
     "height": 202
    },
    "executionInfo": {
     "elapsed": 336,
     "status": "ok",
     "timestamp": 1629039767618,
     "user": {
      "displayName": "Rahayu Oktavia Putri",
      "photoUrl": "",
      "userId": "02165658332696555094"
     },
     "user_tz": -420
    },
    "id": "l6Wx2F2rkE8l",
    "outputId": "c3e030b3-ac56-482d-fcfc-bdd9e7f50f43"
   },
   "outputs": [
    {
     "data": {
      "text/html": [
       "<div>\n",
       "<style scoped>\n",
       "    .dataframe tbody tr th:only-of-type {\n",
       "        vertical-align: middle;\n",
       "    }\n",
       "\n",
       "    .dataframe tbody tr th {\n",
       "        vertical-align: top;\n",
       "    }\n",
       "\n",
       "    .dataframe thead th {\n",
       "        text-align: right;\n",
       "    }\n",
       "</style>\n",
       "<table border=\"1\" class=\"dataframe\">\n",
       "  <thead>\n",
       "    <tr style=\"text-align: right;\">\n",
       "      <th></th>\n",
       "      <th>Jenis Kelamin</th>\n",
       "      <th>Profesi</th>\n",
       "      <th>Tipe Residen</th>\n",
       "      <th>Umur</th>\n",
       "      <th>NilaiBelanjaSetahun</th>\n",
       "    </tr>\n",
       "  </thead>\n",
       "  <tbody>\n",
       "    <tr>\n",
       "      <th>0</th>\n",
       "      <td>0</td>\n",
       "      <td>4</td>\n",
       "      <td>1</td>\n",
       "      <td>58</td>\n",
       "      <td>9497927</td>\n",
       "    </tr>\n",
       "    <tr>\n",
       "      <th>1</th>\n",
       "      <td>1</td>\n",
       "      <td>2</td>\n",
       "      <td>0</td>\n",
       "      <td>14</td>\n",
       "      <td>2722700</td>\n",
       "    </tr>\n",
       "    <tr>\n",
       "      <th>2</th>\n",
       "      <td>0</td>\n",
       "      <td>3</td>\n",
       "      <td>0</td>\n",
       "      <td>48</td>\n",
       "      <td>5286429</td>\n",
       "    </tr>\n",
       "    <tr>\n",
       "      <th>3</th>\n",
       "      <td>0</td>\n",
       "      <td>3</td>\n",
       "      <td>0</td>\n",
       "      <td>53</td>\n",
       "      <td>5204498</td>\n",
       "    </tr>\n",
       "    <tr>\n",
       "      <th>4</th>\n",
       "      <td>1</td>\n",
       "      <td>4</td>\n",
       "      <td>0</td>\n",
       "      <td>41</td>\n",
       "      <td>10615206</td>\n",
       "    </tr>\n",
       "  </tbody>\n",
       "</table>\n",
       "</div>"
      ],
      "text/plain": [
       "   Jenis Kelamin  Profesi  Tipe Residen  Umur  NilaiBelanjaSetahun\n",
       "0              0        4             1    58              9497927\n",
       "1              1        2             0    14              2722700\n",
       "2              0        3             0    48              5286429\n",
       "3              0        3             0    53              5204498\n",
       "4              1        4             0    41             10615206"
      ]
     },
     "execution_count": 24,
     "metadata": {
      "tags": []
     },
     "output_type": "execute_result"
    }
   ],
   "source": [
    "# Merubah data kategori menjadi numerik\n",
    "label_encoder = LabelEncoder()\n",
    "encoded_data = customer_data[categorical].apply(label_encoder.fit_transform)\n",
    "\n",
    "# Menggabungkan kolom umur dan nilai belanja setahun dengan data kategori\n",
    "cluster_data = pd.concat([encoded_data, customer_data[[\"Umur\", \"NilaiBelanjaSetahun\"]]], axis=1)\n",
    "\n",
    "cluster_data.head()"
   ]
  },
  {
   "cell_type": "markdown",
   "metadata": {
    "id": "GoPDvJ7RR4xK"
   },
   "source": [
    "Dari hasil diatas maka terlihat perubahan dimana data yang awalnya adalah string dan merupakan data kategori diubah kedalam bentuk numerik."
   ]
  },
  {
   "cell_type": "markdown",
   "metadata": {
    "id": "X2WIXGEsS3Z7"
   },
   "source": [
    "### Features Selection\n",
    "Dalam clustering perlu diketahui juga hubungan tiap variabelnya. Hal ini akan membantu anda dalam menentukan features mana saja yang akan digunakan. Pemilihan ini dapat dicoba dengan mengalisa korelasi tiap variabel."
   ]
  },
  {
   "cell_type": "code",
   "execution_count": 25,
   "metadata": {
    "colab": {
     "base_uri": "https://localhost:8080/",
     "height": 395
    },
    "executionInfo": {
     "elapsed": 814,
     "status": "ok",
     "timestamp": 1629039772223,
     "user": {
      "displayName": "Rahayu Oktavia Putri",
      "photoUrl": "",
      "userId": "02165658332696555094"
     },
     "user_tz": -420
    },
    "id": "GVTjmTV6Qk7Z",
    "outputId": "fdc93135-cfd2-44e4-e46a-3714c658c575"
   },
   "outputs": [
    {
     "data": {
      "image/png": "[encoded data removed]",
      "text/plain": [
       "<Figure size 576x432 with 2 Axes>"
      ]
     },
     "metadata": {
      "needs_background": "light",
      "tags": []
     },
     "output_type": "display_data"
    }
   ],
   "source": [
    "# Features Selection\n",
    "plt.figure(figsize=(8,6))\n",
    "sns.heatmap(cluster_data.corr(), cmap = 'Wistia', annot = True)\n",
    "plt.title('Heatmap Data', fontsize = 20)\n",
    "plt.show()"
   ]
  },
  {
   "cell_type": "markdown",
   "metadata": {
    "id": "Gs-1l0rER0O7"
   },
   "source": [
    "Dari hasil heatmap diatas diketahui bahwa korelasi terbesar dimiliki oleh variabel NilaiBelanjaSetahun dan juga Profesi, selanjutnya disusul oleh NilaiBelanjaSetahun dan Umur, akan tetapi nilainya cukup rendah. Oleh karena itu, untuk selanjutnya akan digunakan 2 variabel dalam menentukan cluster dari data, Profesi, dan NilaiBelanjaSetahun."
   ]
  },
  {
   "cell_type": "code",
   "execution_count": 26,
   "metadata": {
    "colab": {
     "base_uri": "https://localhost:8080/",
     "height": 202
    },
    "executionInfo": {
     "elapsed": 325,
     "status": "ok",
     "timestamp": 1629039781021,
     "user": {
      "displayName": "Rahayu Oktavia Putri",
      "photoUrl": "",
      "userId": "02165658332696555094"
     },
     "user_tz": -420
    },
    "id": "zyrXRL_qUSzQ",
    "outputId": "8cea6ff4-b48a-4f73-be2a-4d7e4a4d79c8"
   },
   "outputs": [
    {
     "data": {
      "text/html": [
       "<div>\n",
       "<style scoped>\n",
       "    .dataframe tbody tr th:only-of-type {\n",
       "        vertical-align: middle;\n",
       "    }\n",
       "\n",
       "    .dataframe tbody tr th {\n",
       "        vertical-align: top;\n",
       "    }\n",
       "\n",
       "    .dataframe thead th {\n",
       "        text-align: right;\n",
       "    }\n",
       "</style>\n",
       "<table border=\"1\" class=\"dataframe\">\n",
       "  <thead>\n",
       "    <tr style=\"text-align: right;\">\n",
       "      <th></th>\n",
       "      <th>Profesi</th>\n",
       "      <th>NilaiBelanjaSetahun</th>\n",
       "    </tr>\n",
       "  </thead>\n",
       "  <tbody>\n",
       "    <tr>\n",
       "      <th>0</th>\n",
       "      <td>4</td>\n",
       "      <td>9497927</td>\n",
       "    </tr>\n",
       "    <tr>\n",
       "      <th>1</th>\n",
       "      <td>2</td>\n",
       "      <td>2722700</td>\n",
       "    </tr>\n",
       "    <tr>\n",
       "      <th>2</th>\n",
       "      <td>3</td>\n",
       "      <td>5286429</td>\n",
       "    </tr>\n",
       "    <tr>\n",
       "      <th>3</th>\n",
       "      <td>3</td>\n",
       "      <td>5204498</td>\n",
       "    </tr>\n",
       "    <tr>\n",
       "      <th>4</th>\n",
       "      <td>4</td>\n",
       "      <td>10615206</td>\n",
       "    </tr>\n",
       "  </tbody>\n",
       "</table>\n",
       "</div>"
      ],
      "text/plain": [
       "   Profesi  NilaiBelanjaSetahun\n",
       "0        4              9497927\n",
       "1        2              2722700\n",
       "2        3              5286429\n",
       "3        3              5204498\n",
       "4        4             10615206"
      ]
     },
     "execution_count": 26,
     "metadata": {
      "tags": []
     },
     "output_type": "execute_result"
    }
   ],
   "source": [
    "# Drop variabel yang tidak dibutuhkan\n",
    "cluster_data = cluster_data.drop([\"Jenis Kelamin\", \"Tipe Residen\", \"Umur\"], axis = 1)\n",
    "cluster_data.head()"
   ]
  },
  {
   "cell_type": "markdown",
   "metadata": {
    "id": "VlB-wxEwUto7"
   },
   "source": [
    "### Scaling Data\n",
    "Dalam clustering penggunaan scaling data juga diperlukan, hal ini akan membantu mengatasi permasalahan gap pada tiap kolom."
   ]
  },
  {
   "cell_type": "code",
   "execution_count": 28,
   "metadata": {
    "colab": {
     "base_uri": "https://localhost:8080/",
     "height": 202
    },
    "executionInfo": {
     "elapsed": 328,
     "status": "ok",
     "timestamp": 1629039798144,
     "user": {
      "displayName": "Rahayu Oktavia Putri",
      "photoUrl": "",
      "userId": "02165658332696555094"
     },
     "user_tz": -420
    },
    "id": "IVQrR1hRkE8l",
    "outputId": "179d2473-01c8-4fa1-b3da-4ad9c16f0a7f"
   },
   "outputs": [
    {
     "data": {
      "text/html": [
       "<div>\n",
       "<style scoped>\n",
       "    .dataframe tbody tr th:only-of-type {\n",
       "        vertical-align: middle;\n",
       "    }\n",
       "\n",
       "    .dataframe tbody tr th {\n",
       "        vertical-align: top;\n",
       "    }\n",
       "\n",
       "    .dataframe thead th {\n",
       "        text-align: right;\n",
       "    }\n",
       "</style>\n",
       "<table border=\"1\" class=\"dataframe\">\n",
       "  <thead>\n",
       "    <tr style=\"text-align: right;\">\n",
       "      <th></th>\n",
       "      <th>Profesi</th>\n",
       "      <th>NilaiBelanjaSetahun</th>\n",
       "    </tr>\n",
       "  </thead>\n",
       "  <tbody>\n",
       "    <tr>\n",
       "      <th>0</th>\n",
       "      <td>0.851837</td>\n",
       "      <td>0.946763</td>\n",
       "    </tr>\n",
       "    <tr>\n",
       "      <th>1</th>\n",
       "      <td>-0.616847</td>\n",
       "      <td>-1.695081</td>\n",
       "    </tr>\n",
       "    <tr>\n",
       "      <th>2</th>\n",
       "      <td>0.117495</td>\n",
       "      <td>-0.695414</td>\n",
       "    </tr>\n",
       "    <tr>\n",
       "      <th>3</th>\n",
       "      <td>0.117495</td>\n",
       "      <td>-0.727361</td>\n",
       "    </tr>\n",
       "    <tr>\n",
       "      <th>4</th>\n",
       "      <td>0.851837</td>\n",
       "      <td>1.382421</td>\n",
       "    </tr>\n",
       "  </tbody>\n",
       "</table>\n",
       "</div>"
      ],
      "text/plain": [
       "    Profesi  NilaiBelanjaSetahun\n",
       "0  0.851837             0.946763\n",
       "1 -0.616847            -1.695081\n",
       "2  0.117495            -0.695414\n",
       "3  0.117495            -0.727361\n",
       "4  0.851837             1.382421"
      ]
     },
     "execution_count": 28,
     "metadata": {
      "tags": []
     },
     "output_type": "execute_result"
    }
   ],
   "source": [
    "# Data Scaling\n",
    "scaler = StandardScaler()\n",
    "cluster_data[[\"Profesi\", \"NilaiBelanjaSetahun\"]] = scaler.fit_transform(cluster_data[[\"Profesi\", \"NilaiBelanjaSetahun\"]])\n",
    "cluster_data.head()"
   ]
  },
  {
   "cell_type": "markdown",
   "metadata": {
    "id": "Tug83Iq_kE8m"
   },
   "source": [
    "## KMeans Cluster"
   ]
  },
  {
   "cell_type": "markdown",
   "metadata": {
    "id": "EGfP9tCSiKkG"
   },
   "source": [
    "Apabila anda sudah mengetahui berapa jumlah cluster yang anda harapkan, anda bisa langsung memasukkan banyaknya cluster dalam modelling yang akan anda lakukan seperti dibawah ini."
   ]
  },
  {
   "cell_type": "code",
   "execution_count": 29,
   "metadata": {
    "colab": {
     "base_uri": "https://localhost:8080/"
    },
    "executionInfo": {
     "elapsed": 314,
     "status": "ok",
     "timestamp": 1629039802064,
     "user": {
      "displayName": "Rahayu Oktavia Putri",
      "photoUrl": "",
      "userId": "02165658332696555094"
     },
     "user_tz": -420
    },
    "id": "Z-B49KEfkE8m",
    "outputId": "73d182c6-db21-4719-d390-64bcacc62b1f"
   },
   "outputs": [
    {
     "data": {
      "text/plain": [
       "KMeans(algorithm='auto', copy_x=True, init='k-means++', max_iter=300,\n",
       "       n_clusters=2, n_init=10, n_jobs=None, precompute_distances='auto',\n",
       "       random_state=None, tol=0.0001, verbose=0)"
      ]
     },
     "execution_count": 29,
     "metadata": {
      "tags": []
     },
     "output_type": "execute_result"
    }
   ],
   "source": [
    "# Memodelkan data dengan cluster yang sudah ditentukan yaitu 2\n",
    "cluster = KMeans(n_clusters=2)\n",
    "cluster.fit(cluster_data)"
   ]
  },
  {
   "cell_type": "code",
   "execution_count": 19,
   "metadata": {
    "executionInfo": {
     "elapsed": 6,
     "status": "ok",
     "timestamp": 1629039691006,
     "user": {
      "displayName": "Rahayu Oktavia Putri",
      "photoUrl": "",
      "userId": "02165658332696555094"
     },
     "user_tz": -420
    },
    "id": "sm7zfKrHkE8m"
   },
   "outputs": [],
   "source": [
    "# Menambahkan kolom baru berupa hasil segmentasi pelanggan\n",
    "segment = pd.Series(cluster.labels_, name=\"segment\")"
   ]
  },
  {
   "cell_type": "code",
   "execution_count": 20,
   "metadata": {
    "colab": {
     "base_uri": "https://localhost:8080/",
     "height": 1000
    },
    "executionInfo": {
     "elapsed": 7,
     "status": "ok",
     "timestamp": 1629039691364,
     "user": {
      "displayName": "Rahayu Oktavia Putri",
      "photoUrl": "",
      "userId": "02165658332696555094"
     },
     "user_tz": -420
    },
    "id": "nkugbdhqkE8m",
    "outputId": "ae213f0d-d033-4df3-fa67-00425b2a0cad"
   },
   "outputs": [
    {
     "data": {
      "text/html": [
       "<div>\n",
       "<style scoped>\n",
       "    .dataframe tbody tr th:only-of-type {\n",
       "        vertical-align: middle;\n",
       "    }\n",
       "\n",
       "    .dataframe tbody tr th {\n",
       "        vertical-align: top;\n",
       "    }\n",
       "\n",
       "    .dataframe thead th {\n",
       "        text-align: right;\n",
       "    }\n",
       "</style>\n",
       "<table border=\"1\" class=\"dataframe\">\n",
       "  <thead>\n",
       "    <tr style=\"text-align: right;\">\n",
       "      <th></th>\n",
       "      <th>Nama Pelanggan</th>\n",
       "      <th>Jenis Kelamin</th>\n",
       "      <th>Umur</th>\n",
       "      <th>Profesi</th>\n",
       "      <th>Tipe Residen</th>\n",
       "      <th>NilaiBelanjaSetahun</th>\n",
       "      <th>segment</th>\n",
       "    </tr>\n",
       "  </thead>\n",
       "  <tbody>\n",
       "    <tr>\n",
       "      <th>0</th>\n",
       "      <td>Budi Anggara</td>\n",
       "      <td>Pria</td>\n",
       "      <td>58</td>\n",
       "      <td>Wiraswasta</td>\n",
       "      <td>Sector</td>\n",
       "      <td>9497927</td>\n",
       "      <td>1</td>\n",
       "    </tr>\n",
       "    <tr>\n",
       "      <th>1</th>\n",
       "      <td>Shirley Ratuwati</td>\n",
       "      <td>Wanita</td>\n",
       "      <td>14</td>\n",
       "      <td>Pelajar</td>\n",
       "      <td>Cluster</td>\n",
       "      <td>2722700</td>\n",
       "      <td>0</td>\n",
       "    </tr>\n",
       "    <tr>\n",
       "      <th>2</th>\n",
       "      <td>Agus Cahyono</td>\n",
       "      <td>Pria</td>\n",
       "      <td>48</td>\n",
       "      <td>Professional</td>\n",
       "      <td>Cluster</td>\n",
       "      <td>5286429</td>\n",
       "      <td>0</td>\n",
       "    </tr>\n",
       "    <tr>\n",
       "      <th>3</th>\n",
       "      <td>Antonius Winarta</td>\n",
       "      <td>Pria</td>\n",
       "      <td>53</td>\n",
       "      <td>Professional</td>\n",
       "      <td>Cluster</td>\n",
       "      <td>5204498</td>\n",
       "      <td>0</td>\n",
       "    </tr>\n",
       "    <tr>\n",
       "      <th>4</th>\n",
       "      <td>Ibu Sri Wahyuni, IR</td>\n",
       "      <td>Wanita</td>\n",
       "      <td>41</td>\n",
       "      <td>Wiraswasta</td>\n",
       "      <td>Cluster</td>\n",
       "      <td>10615206</td>\n",
       "      <td>1</td>\n",
       "    </tr>\n",
       "    <tr>\n",
       "      <th>5</th>\n",
       "      <td>Rosalina Kurnia</td>\n",
       "      <td>Wanita</td>\n",
       "      <td>24</td>\n",
       "      <td>Professional</td>\n",
       "      <td>Cluster</td>\n",
       "      <td>5215541</td>\n",
       "      <td>0</td>\n",
       "    </tr>\n",
       "    <tr>\n",
       "      <th>6</th>\n",
       "      <td>Cahyono, Agus</td>\n",
       "      <td>Pria</td>\n",
       "      <td>64</td>\n",
       "      <td>Wiraswasta</td>\n",
       "      <td>Sector</td>\n",
       "      <td>9837260</td>\n",
       "      <td>1</td>\n",
       "    </tr>\n",
       "    <tr>\n",
       "      <th>7</th>\n",
       "      <td>Danang Santosa</td>\n",
       "      <td>Pria</td>\n",
       "      <td>52</td>\n",
       "      <td>Professional</td>\n",
       "      <td>Cluster</td>\n",
       "      <td>5223569</td>\n",
       "      <td>0</td>\n",
       "    </tr>\n",
       "    <tr>\n",
       "      <th>8</th>\n",
       "      <td>Elisabeth Suryadinata</td>\n",
       "      <td>Wanita</td>\n",
       "      <td>29</td>\n",
       "      <td>Professional</td>\n",
       "      <td>Sector</td>\n",
       "      <td>5993218</td>\n",
       "      <td>0</td>\n",
       "    </tr>\n",
       "    <tr>\n",
       "      <th>9</th>\n",
       "      <td>Mario Setiawan</td>\n",
       "      <td>Pria</td>\n",
       "      <td>33</td>\n",
       "      <td>Professional</td>\n",
       "      <td>Cluster</td>\n",
       "      <td>5257448</td>\n",
       "      <td>0</td>\n",
       "    </tr>\n",
       "    <tr>\n",
       "      <th>10</th>\n",
       "      <td>Maria Suryawan</td>\n",
       "      <td>Wanita</td>\n",
       "      <td>50</td>\n",
       "      <td>Professional</td>\n",
       "      <td>Sector</td>\n",
       "      <td>5987367</td>\n",
       "      <td>0</td>\n",
       "    </tr>\n",
       "    <tr>\n",
       "      <th>11</th>\n",
       "      <td>Erliana Widjaja</td>\n",
       "      <td>Wanita</td>\n",
       "      <td>49</td>\n",
       "      <td>Professional</td>\n",
       "      <td>Sector</td>\n",
       "      <td>5941914</td>\n",
       "      <td>0</td>\n",
       "    </tr>\n",
       "    <tr>\n",
       "      <th>12</th>\n",
       "      <td>Cahaya Putri</td>\n",
       "      <td>Wanita</td>\n",
       "      <td>64</td>\n",
       "      <td>Wiraswasta</td>\n",
       "      <td>Cluster</td>\n",
       "      <td>9333168</td>\n",
       "      <td>1</td>\n",
       "    </tr>\n",
       "    <tr>\n",
       "      <th>13</th>\n",
       "      <td>Mario Setiawan</td>\n",
       "      <td>Pria</td>\n",
       "      <td>60</td>\n",
       "      <td>Wiraswasta</td>\n",
       "      <td>Cluster</td>\n",
       "      <td>9471615</td>\n",
       "      <td>1</td>\n",
       "    </tr>\n",
       "    <tr>\n",
       "      <th>14</th>\n",
       "      <td>Shirley Ratuwati</td>\n",
       "      <td>Wanita</td>\n",
       "      <td>20</td>\n",
       "      <td>Wiraswasta</td>\n",
       "      <td>Cluster</td>\n",
       "      <td>10365668</td>\n",
       "      <td>1</td>\n",
       "    </tr>\n",
       "    <tr>\n",
       "      <th>15</th>\n",
       "      <td>Bambang Rudi</td>\n",
       "      <td>Pria</td>\n",
       "      <td>35</td>\n",
       "      <td>Professional</td>\n",
       "      <td>Cluster</td>\n",
       "      <td>5262521</td>\n",
       "      <td>0</td>\n",
       "    </tr>\n",
       "    <tr>\n",
       "      <th>16</th>\n",
       "      <td>Yuni Sari</td>\n",
       "      <td>Wanita</td>\n",
       "      <td>32</td>\n",
       "      <td>Ibu Rumah Tangga</td>\n",
       "      <td>Cluster</td>\n",
       "      <td>5677762</td>\n",
       "      <td>0</td>\n",
       "    </tr>\n",
       "    <tr>\n",
       "      <th>17</th>\n",
       "      <td>Nelly Halim</td>\n",
       "      <td>Wanita</td>\n",
       "      <td>63</td>\n",
       "      <td>Ibu Rumah Tangga</td>\n",
       "      <td>Cluster</td>\n",
       "      <td>5340690</td>\n",
       "      <td>0</td>\n",
       "    </tr>\n",
       "    <tr>\n",
       "      <th>18</th>\n",
       "      <td>Mega Pranoto</td>\n",
       "      <td>Wanita</td>\n",
       "      <td>32</td>\n",
       "      <td>Wiraswasta</td>\n",
       "      <td>Cluster</td>\n",
       "      <td>10884508</td>\n",
       "      <td>1</td>\n",
       "    </tr>\n",
       "    <tr>\n",
       "      <th>19</th>\n",
       "      <td>Irene Novianto</td>\n",
       "      <td>Wanita</td>\n",
       "      <td>16</td>\n",
       "      <td>Pelajar</td>\n",
       "      <td>Sector</td>\n",
       "      <td>2896845</td>\n",
       "      <td>0</td>\n",
       "    </tr>\n",
       "    <tr>\n",
       "      <th>20</th>\n",
       "      <td>Lestari Fabianto</td>\n",
       "      <td>Wanita</td>\n",
       "      <td>38</td>\n",
       "      <td>Wiraswasta</td>\n",
       "      <td>Cluster</td>\n",
       "      <td>9222070</td>\n",
       "      <td>1</td>\n",
       "    </tr>\n",
       "    <tr>\n",
       "      <th>21</th>\n",
       "      <td>Novita Purba</td>\n",
       "      <td>Wanita</td>\n",
       "      <td>52</td>\n",
       "      <td>Professional</td>\n",
       "      <td>Cluster</td>\n",
       "      <td>5298157</td>\n",
       "      <td>0</td>\n",
       "    </tr>\n",
       "    <tr>\n",
       "      <th>22</th>\n",
       "      <td>Denny Amiruddin</td>\n",
       "      <td>Pria</td>\n",
       "      <td>34</td>\n",
       "      <td>Professional</td>\n",
       "      <td>Cluster</td>\n",
       "      <td>5239290</td>\n",
       "      <td>0</td>\n",
       "    </tr>\n",
       "    <tr>\n",
       "      <th>23</th>\n",
       "      <td>Putri Ginting</td>\n",
       "      <td>Wanita</td>\n",
       "      <td>39</td>\n",
       "      <td>Wiraswasta</td>\n",
       "      <td>Cluster</td>\n",
       "      <td>10259572</td>\n",
       "      <td>1</td>\n",
       "    </tr>\n",
       "    <tr>\n",
       "      <th>24</th>\n",
       "      <td>Julia Setiawan</td>\n",
       "      <td>Wanita</td>\n",
       "      <td>29</td>\n",
       "      <td>Wiraswasta</td>\n",
       "      <td>Sector</td>\n",
       "      <td>10721998</td>\n",
       "      <td>1</td>\n",
       "    </tr>\n",
       "    <tr>\n",
       "      <th>25</th>\n",
       "      <td>Christine Winarto</td>\n",
       "      <td>Wanita</td>\n",
       "      <td>55</td>\n",
       "      <td>Professional</td>\n",
       "      <td>Cluster</td>\n",
       "      <td>5269392</td>\n",
       "      <td>0</td>\n",
       "    </tr>\n",
       "    <tr>\n",
       "      <th>26</th>\n",
       "      <td>Grace Mulyati</td>\n",
       "      <td>Wanita</td>\n",
       "      <td>35</td>\n",
       "      <td>Wiraswasta</td>\n",
       "      <td>Cluster</td>\n",
       "      <td>9114159</td>\n",
       "      <td>1</td>\n",
       "    </tr>\n",
       "    <tr>\n",
       "      <th>27</th>\n",
       "      <td>Adeline Huang</td>\n",
       "      <td>Wanita</td>\n",
       "      <td>40</td>\n",
       "      <td>Ibu Rumah Tangga</td>\n",
       "      <td>Cluster</td>\n",
       "      <td>6631680</td>\n",
       "      <td>0</td>\n",
       "    </tr>\n",
       "    <tr>\n",
       "      <th>28</th>\n",
       "      <td>Tia Hartanti</td>\n",
       "      <td>Wanita</td>\n",
       "      <td>56</td>\n",
       "      <td>Professional</td>\n",
       "      <td>Cluster</td>\n",
       "      <td>5271845</td>\n",
       "      <td>0</td>\n",
       "    </tr>\n",
       "    <tr>\n",
       "      <th>29</th>\n",
       "      <td>Rosita Saragih</td>\n",
       "      <td>Wanita</td>\n",
       "      <td>46</td>\n",
       "      <td>Ibu Rumah Tangga</td>\n",
       "      <td>Sector</td>\n",
       "      <td>5020976</td>\n",
       "      <td>0</td>\n",
       "    </tr>\n",
       "    <tr>\n",
       "      <th>30</th>\n",
       "      <td>Eviana Handry</td>\n",
       "      <td>Wanita</td>\n",
       "      <td>19</td>\n",
       "      <td>Mahasiswa</td>\n",
       "      <td>Cluster</td>\n",
       "      <td>3042773</td>\n",
       "      <td>0</td>\n",
       "    </tr>\n",
       "    <tr>\n",
       "      <th>31</th>\n",
       "      <td>Chintya Winarni</td>\n",
       "      <td>Wanita</td>\n",
       "      <td>47</td>\n",
       "      <td>Wiraswasta</td>\n",
       "      <td>Sector</td>\n",
       "      <td>10663179</td>\n",
       "      <td>1</td>\n",
       "    </tr>\n",
       "    <tr>\n",
       "      <th>32</th>\n",
       "      <td>Cecilia Kusnadi</td>\n",
       "      <td>Wanita</td>\n",
       "      <td>19</td>\n",
       "      <td>Mahasiswa</td>\n",
       "      <td>Cluster</td>\n",
       "      <td>3047926</td>\n",
       "      <td>0</td>\n",
       "    </tr>\n",
       "    <tr>\n",
       "      <th>33</th>\n",
       "      <td>Deasy Arisandi</td>\n",
       "      <td>Wanita</td>\n",
       "      <td>21</td>\n",
       "      <td>Wiraswasta</td>\n",
       "      <td>Sector</td>\n",
       "      <td>9759822</td>\n",
       "      <td>1</td>\n",
       "    </tr>\n",
       "    <tr>\n",
       "      <th>34</th>\n",
       "      <td>Ida Ayu</td>\n",
       "      <td>Wanita</td>\n",
       "      <td>39</td>\n",
       "      <td>Professional</td>\n",
       "      <td>Sector</td>\n",
       "      <td>5962575</td>\n",
       "      <td>0</td>\n",
       "    </tr>\n",
       "    <tr>\n",
       "      <th>35</th>\n",
       "      <td>Ni Made Suasti</td>\n",
       "      <td>Wanita</td>\n",
       "      <td>30</td>\n",
       "      <td>Wiraswasta</td>\n",
       "      <td>Cluster</td>\n",
       "      <td>9678994</td>\n",
       "      <td>1</td>\n",
       "    </tr>\n",
       "    <tr>\n",
       "      <th>36</th>\n",
       "      <td>Felicia Tandiono</td>\n",
       "      <td>Wanita</td>\n",
       "      <td>25</td>\n",
       "      <td>Professional</td>\n",
       "      <td>Sector</td>\n",
       "      <td>5972787</td>\n",
       "      <td>0</td>\n",
       "    </tr>\n",
       "    <tr>\n",
       "      <th>37</th>\n",
       "      <td>Agatha Salim</td>\n",
       "      <td>Wanita</td>\n",
       "      <td>46</td>\n",
       "      <td>Wiraswasta</td>\n",
       "      <td>Sector</td>\n",
       "      <td>10477127</td>\n",
       "      <td>1</td>\n",
       "    </tr>\n",
       "    <tr>\n",
       "      <th>38</th>\n",
       "      <td>Gina Hidayat</td>\n",
       "      <td>Wanita</td>\n",
       "      <td>20</td>\n",
       "      <td>Professional</td>\n",
       "      <td>Cluster</td>\n",
       "      <td>5257775</td>\n",
       "      <td>0</td>\n",
       "    </tr>\n",
       "    <tr>\n",
       "      <th>39</th>\n",
       "      <td>Irene Darmawan</td>\n",
       "      <td>Wanita</td>\n",
       "      <td>14</td>\n",
       "      <td>Pelajar</td>\n",
       "      <td>Sector</td>\n",
       "      <td>2861855</td>\n",
       "      <td>0</td>\n",
       "    </tr>\n",
       "    <tr>\n",
       "      <th>40</th>\n",
       "      <td>Shinta Aritonang</td>\n",
       "      <td>Wanita</td>\n",
       "      <td>24</td>\n",
       "      <td>Ibu Rumah Tangga</td>\n",
       "      <td>Cluster</td>\n",
       "      <td>6820976</td>\n",
       "      <td>0</td>\n",
       "    </tr>\n",
       "    <tr>\n",
       "      <th>41</th>\n",
       "      <td>Yuliana Wati</td>\n",
       "      <td>Wanita</td>\n",
       "      <td>26</td>\n",
       "      <td>Wiraswasta</td>\n",
       "      <td>Cluster</td>\n",
       "      <td>9880607</td>\n",
       "      <td>1</td>\n",
       "    </tr>\n",
       "    <tr>\n",
       "      <th>42</th>\n",
       "      <td>Yenna Sumadi</td>\n",
       "      <td>Wanita</td>\n",
       "      <td>31</td>\n",
       "      <td>Professional</td>\n",
       "      <td>Cluster</td>\n",
       "      <td>5268410</td>\n",
       "      <td>0</td>\n",
       "    </tr>\n",
       "    <tr>\n",
       "      <th>43</th>\n",
       "      <td>Anna</td>\n",
       "      <td>Wanita</td>\n",
       "      <td>18</td>\n",
       "      <td>Wiraswasta</td>\n",
       "      <td>Cluster</td>\n",
       "      <td>9339737</td>\n",
       "      <td>1</td>\n",
       "    </tr>\n",
       "    <tr>\n",
       "      <th>44</th>\n",
       "      <td>Rismawati Juni</td>\n",
       "      <td>Wanita</td>\n",
       "      <td>22</td>\n",
       "      <td>Professional</td>\n",
       "      <td>Cluster</td>\n",
       "      <td>5211041</td>\n",
       "      <td>0</td>\n",
       "    </tr>\n",
       "    <tr>\n",
       "      <th>45</th>\n",
       "      <td>Elfira Surya</td>\n",
       "      <td>Wanita</td>\n",
       "      <td>25</td>\n",
       "      <td>Wiraswasta</td>\n",
       "      <td>Sector</td>\n",
       "      <td>10099807</td>\n",
       "      <td>1</td>\n",
       "    </tr>\n",
       "    <tr>\n",
       "      <th>46</th>\n",
       "      <td>Mira Kurnia</td>\n",
       "      <td>Wanita</td>\n",
       "      <td>55</td>\n",
       "      <td>Ibu Rumah Tangga</td>\n",
       "      <td>Cluster</td>\n",
       "      <td>6130724</td>\n",
       "      <td>0</td>\n",
       "    </tr>\n",
       "    <tr>\n",
       "      <th>47</th>\n",
       "      <td>Maria Hutagalung</td>\n",
       "      <td>Wanita</td>\n",
       "      <td>45</td>\n",
       "      <td>Wiraswasta</td>\n",
       "      <td>Sector</td>\n",
       "      <td>10390732</td>\n",
       "      <td>1</td>\n",
       "    </tr>\n",
       "    <tr>\n",
       "      <th>48</th>\n",
       "      <td>Josephine Wahab</td>\n",
       "      <td>Wanita</td>\n",
       "      <td>33</td>\n",
       "      <td>Ibu Rumah Tangga</td>\n",
       "      <td>Sector</td>\n",
       "      <td>4992585</td>\n",
       "      <td>0</td>\n",
       "    </tr>\n",
       "    <tr>\n",
       "      <th>49</th>\n",
       "      <td>Lianna Nugraha</td>\n",
       "      <td>Wanita</td>\n",
       "      <td>55</td>\n",
       "      <td>Wiraswasta</td>\n",
       "      <td>Sector</td>\n",
       "      <td>10569316</td>\n",
       "      <td>1</td>\n",
       "    </tr>\n",
       "  </tbody>\n",
       "</table>\n",
       "</div>"
      ],
      "text/plain": [
       "           Nama Pelanggan Jenis Kelamin  ...  NilaiBelanjaSetahun segment\n",
       "0            Budi Anggara          Pria  ...              9497927       1\n",
       "1        Shirley Ratuwati        Wanita  ...              2722700       0\n",
       "2            Agus Cahyono          Pria  ...              5286429       0\n",
       "3        Antonius Winarta          Pria  ...              5204498       0\n",
       "4     Ibu Sri Wahyuni, IR        Wanita  ...             10615206       1\n",
       "5         Rosalina Kurnia        Wanita  ...              5215541       0\n",
       "6           Cahyono, Agus          Pria  ...              9837260       1\n",
       "7          Danang Santosa          Pria  ...              5223569       0\n",
       "8   Elisabeth Suryadinata        Wanita  ...              5993218       0\n",
       "9          Mario Setiawan          Pria  ...              5257448       0\n",
       "10         Maria Suryawan        Wanita  ...              5987367       0\n",
       "11        Erliana Widjaja        Wanita  ...              5941914       0\n",
       "12           Cahaya Putri        Wanita  ...              9333168       1\n",
       "13         Mario Setiawan          Pria  ...              9471615       1\n",
       "14       Shirley Ratuwati        Wanita  ...             10365668       1\n",
       "15           Bambang Rudi          Pria  ...              5262521       0\n",
       "16              Yuni Sari        Wanita  ...              5677762       0\n",
       "17            Nelly Halim        Wanita  ...              5340690       0\n",
       "18           Mega Pranoto        Wanita  ...             10884508       1\n",
       "19         Irene Novianto        Wanita  ...              2896845       0\n",
       "20       Lestari Fabianto        Wanita  ...              9222070       1\n",
       "21           Novita Purba        Wanita  ...              5298157       0\n",
       "22        Denny Amiruddin          Pria  ...              5239290       0\n",
       "23          Putri Ginting        Wanita  ...             10259572       1\n",
       "24         Julia Setiawan        Wanita  ...             10721998       1\n",
       "25      Christine Winarto        Wanita  ...              5269392       0\n",
       "26          Grace Mulyati        Wanita  ...              9114159       1\n",
       "27          Adeline Huang        Wanita  ...              6631680       0\n",
       "28           Tia Hartanti        Wanita  ...              5271845       0\n",
       "29         Rosita Saragih        Wanita  ...              5020976       0\n",
       "30          Eviana Handry        Wanita  ...              3042773       0\n",
       "31        Chintya Winarni        Wanita  ...             10663179       1\n",
       "32        Cecilia Kusnadi        Wanita  ...              3047926       0\n",
       "33         Deasy Arisandi        Wanita  ...              9759822       1\n",
       "34                Ida Ayu        Wanita  ...              5962575       0\n",
       "35         Ni Made Suasti        Wanita  ...              9678994       1\n",
       "36       Felicia Tandiono        Wanita  ...              5972787       0\n",
       "37           Agatha Salim        Wanita  ...             10477127       1\n",
       "38           Gina Hidayat        Wanita  ...              5257775       0\n",
       "39         Irene Darmawan        Wanita  ...              2861855       0\n",
       "40       Shinta Aritonang        Wanita  ...              6820976       0\n",
       "41           Yuliana Wati        Wanita  ...              9880607       1\n",
       "42           Yenna Sumadi        Wanita  ...              5268410       0\n",
       "43                   Anna        Wanita  ...              9339737       1\n",
       "44         Rismawati Juni        Wanita  ...              5211041       0\n",
       "45           Elfira Surya        Wanita  ...             10099807       1\n",
       "46            Mira Kurnia        Wanita  ...              6130724       0\n",
       "47       Maria Hutagalung        Wanita  ...             10390732       1\n",
       "48        Josephine Wahab        Wanita  ...              4992585       0\n",
       "49         Lianna Nugraha        Wanita  ...             10569316       1\n",
       "\n",
       "[50 rows x 7 columns]"
      ]
     },
     "execution_count": 20,
     "metadata": {
      "tags": []
     },
     "output_type": "execute_result"
    }
   ],
   "source": [
    "# Menggabungkan data awal dengan data hasil segmentasi pelanggan\n",
    "pd.concat([customer_data, segment], axis=1)"
   ]
  },
  {
   "cell_type": "markdown",
   "metadata": {
    "id": "qVn10pZRkBjt"
   },
   "source": [
    "Selanjutnya anda bisa menganalisis masing-masing karakter dari setiap segment."
   ]
  },
  {
   "cell_type": "markdown",
   "metadata": {
    "id": "7FKuFeKokE8m"
   },
   "source": [
    "### Menentukan Nilai Optimal K (kelompok)"
   ]
  },
  {
   "cell_type": "markdown",
   "metadata": {
    "id": "MzEt-iwgkE8n"
   },
   "source": [
    "Menentukan nilai optimal K (kelompok) dengan Metode Elbow merupakan suatu metode yang digunakan untuk menghasilkan informasi dalam menentukan jumlah cluster terbaik dengan cara melihat persentase hasil perbandingan antara jumlah cluster yang akan membentuk siku pada suatu titik. Penetapan ini didapat dari karakteristik data yang anda miliki."
   ]
  },
  {
   "cell_type": "code",
   "execution_count": 30,
   "metadata": {
    "executionInfo": {
     "elapsed": 349,
     "status": "ok",
     "timestamp": 1629039808199,
     "user": {
      "displayName": "Rahayu Oktavia Putri",
      "photoUrl": "",
      "userId": "02165658332696555094"
     },
     "user_tz": -420
    },
    "id": "IN0YjB3qkE8n"
   },
   "outputs": [],
   "source": [
    "# Perulangan ini digunakan untuk mengeksekusi nilai k dengan data \n",
    "# Selanjutkan akan dicari SSE\n",
    "\n",
    "Sum_of_squared_error = []\n",
    "K = range(2,10)\n",
    "for k in K:\n",
    "    km = KMeans(n_clusters=k)\n",
    "    km = km.fit(cluster_data)\n",
    "    Sum_of_squared_error.append(km.inertia_)"
   ]
  },
  {
   "cell_type": "code",
   "execution_count": 31,
   "metadata": {
    "colab": {
     "base_uri": "https://localhost:8080/",
     "height": 295
    },
    "executionInfo": {
     "elapsed": 554,
     "status": "ok",
     "timestamp": 1629039810008,
     "user": {
      "displayName": "Rahayu Oktavia Putri",
      "photoUrl": "",
      "userId": "02165658332696555094"
     },
     "user_tz": -420
    },
    "id": "jOzZJ87_kE8n",
    "outputId": "5eb82fc9-326c-497e-af06-04f382505190"
   },
   "outputs": [
    {
     "data": {
      "image/png": "[encoded data removed]",
      "text/plain": [
       "<Figure size 432x288 with 1 Axes>"
      ]
     },
     "metadata": {
      "needs_background": "light",
      "tags": []
     },
     "output_type": "display_data"
    }
   ],
   "source": [
    "plt.plot(K, Sum_of_squared_error, 'bx-')\n",
    "plt.xlabel('k')\n",
    "plt.ylabel('SSE')\n",
    "plt.title('Elbow Method For Optimal k')\n",
    "plt.show()"
   ]
  },
  {
   "cell_type": "markdown",
   "metadata": {
    "id": "LsUPyPN2XJBs"
   },
   "source": [
    "Berdasarkan metode elbow pada titik siku-siku diperoleh di k=3 atau k=4, dalam pengaplikasian metode elbow pemilihan k optimal dipilih ketika jarak antara jumlah 1 dan yang lain tidak berbeda secara signifikan. Pada kasus ini nilai k yang optimal adalah 4 dikarenakan jarak antara 2 dan 3 terlalu jauh. Namun untuk memastikan, akan dievaluasi dengan menggunakan silhouette score."
   ]
  },
  {
   "cell_type": "markdown",
   "metadata": {
    "id": "djLPH69aGc5N"
   },
   "source": [
    "### Evaluation Model"
   ]
  },
  {
   "cell_type": "markdown",
   "metadata": {
    "id": "73QAXqgFGjxx"
   },
   "source": [
    "Menggunakan silhouette score untuk konfirmasi k-kluster"
   ]
  },
  {
   "cell_type": "code",
   "execution_count": 32,
   "metadata": {
    "colab": {
     "base_uri": "https://localhost:8080/"
    },
    "executionInfo": {
     "elapsed": 822,
     "status": "ok",
     "timestamp": 1629039825732,
     "user": {
      "displayName": "Rahayu Oktavia Putri",
      "photoUrl": "",
      "userId": "02165658332696555094"
     },
     "user_tz": -420
    },
    "id": "rvtrZhqlkE8p",
    "outputId": "4a95b08c-07f5-4ec0-bb8f-9366f2b1295c"
   },
   "outputs": [
    {
     "name": "stdout",
     "output_type": "stream",
     "text": [
      "For n_clusters = 2, silhouette score is 0.681979195097331\n",
      "For n_clusters = 3, silhouette score is 0.785057992924231\n",
      "For n_clusters = 4, silhouette score is 0.8491952909238699\n",
      "For n_clusters = 5, silhouette score is 0.7719536764512731\n",
      "For n_clusters = 6, silhouette score is 0.7912853388219153\n",
      "For n_clusters = 7, silhouette score is 0.7773599784790521\n",
      "For n_clusters = 8, silhouette score is 0.7964226316706623\n",
      "For n_clusters = 9, silhouette score is 0.7743380058769962\n"
     ]
    }
   ],
   "source": [
    "range_n_clusters = range(2,10)\n",
    "for n_clusters in range_n_clusters:\n",
    "    clusterer = KMeans(n_clusters)\n",
    "    preds = clusterer.fit_predict(cluster_data)\n",
    "    centers = clusterer.cluster_centers_\n",
    "\n",
    "    score = silhouette_score(cluster_data, preds)\n",
    "    print(\"For n_clusters = {}, silhouette score is {}\".format(n_clusters, score))"
   ]
  },
  {
   "cell_type": "markdown",
   "metadata": {
    "id": "EyAB_vU8I_T9"
   },
   "source": [
    "Dari silhouette model didapat k-kluster yang optimum adalah 4, sama seperti pemilihan cluster dengan elbow method. Oleh karena itu, untuk kedepannya akan digunakan k=4 yang artinya customer akan dibagi kedalam 4 kelompok."
   ]
  },
  {
   "cell_type": "code",
   "execution_count": 34,
   "metadata": {
    "colab": {
     "base_uri": "https://localhost:8080/"
    },
    "executionInfo": {
     "elapsed": 330,
     "status": "ok",
     "timestamp": 1629040249875,
     "user": {
      "displayName": "Rahayu Oktavia Putri",
      "photoUrl": "",
      "userId": "02165658332696555094"
     },
     "user_tz": -420
    },
    "id": "ewFHAGEwkE8n",
    "outputId": "8da6d11f-84f0-4df7-ab0c-a4226b722ac9"
   },
   "outputs": [
    {
     "data": {
      "text/plain": [
       "KMeans(algorithm='auto', copy_x=True, init='k-means++', max_iter=300,\n",
       "       n_clusters=4, n_init=10, n_jobs=None, precompute_distances='auto',\n",
       "       random_state=None, tol=0.0001, verbose=0)"
      ]
     },
     "execution_count": 34,
     "metadata": {
      "tags": []
     },
     "output_type": "execute_result"
    }
   ],
   "source": [
    "# Memodelkan data dengan k-means\n",
    "cluster = KMeans(n_clusters=4)\n",
    "cluster.fit(cluster_data)"
   ]
  },
  {
   "cell_type": "code",
   "execution_count": 35,
   "metadata": {
    "executionInfo": {
     "elapsed": 337,
     "status": "ok",
     "timestamp": 1629040253293,
     "user": {
      "displayName": "Rahayu Oktavia Putri",
      "photoUrl": "",
      "userId": "02165658332696555094"
     },
     "user_tz": -420
    },
    "id": "zSdecWUkkE8n"
   },
   "outputs": [],
   "source": [
    "# Membuat kolom baru berdasarkan hasil clustering\n",
    "segment = pd.Series(cluster.labels_, name=\"segment\")"
   ]
  },
  {
   "cell_type": "code",
   "execution_count": 36,
   "metadata": {
    "colab": {
     "base_uri": "https://localhost:8080/",
     "height": 202
    },
    "executionInfo": {
     "elapsed": 319,
     "status": "ok",
     "timestamp": 1629040255754,
     "user": {
      "displayName": "Rahayu Oktavia Putri",
      "photoUrl": "",
      "userId": "02165658332696555094"
     },
     "user_tz": -420
    },
    "id": "i2Z0NwQrkE8o",
    "outputId": "00b8765d-d479-46dc-9dc9-13ae26148071"
   },
   "outputs": [
    {
     "data": {
      "text/html": [
       "<div>\n",
       "<style scoped>\n",
       "    .dataframe tbody tr th:only-of-type {\n",
       "        vertical-align: middle;\n",
       "    }\n",
       "\n",
       "    .dataframe tbody tr th {\n",
       "        vertical-align: top;\n",
       "    }\n",
       "\n",
       "    .dataframe thead th {\n",
       "        text-align: right;\n",
       "    }\n",
       "</style>\n",
       "<table border=\"1\" class=\"dataframe\">\n",
       "  <thead>\n",
       "    <tr style=\"text-align: right;\">\n",
       "      <th></th>\n",
       "      <th>Nama Pelanggan</th>\n",
       "      <th>Jenis Kelamin</th>\n",
       "      <th>Umur</th>\n",
       "      <th>Profesi</th>\n",
       "      <th>Tipe Residen</th>\n",
       "      <th>NilaiBelanjaSetahun</th>\n",
       "      <th>segment</th>\n",
       "    </tr>\n",
       "  </thead>\n",
       "  <tbody>\n",
       "    <tr>\n",
       "      <th>0</th>\n",
       "      <td>Budi Anggara</td>\n",
       "      <td>Pria</td>\n",
       "      <td>58</td>\n",
       "      <td>Wiraswasta</td>\n",
       "      <td>Sector</td>\n",
       "      <td>9497927</td>\n",
       "      <td>0</td>\n",
       "    </tr>\n",
       "    <tr>\n",
       "      <th>1</th>\n",
       "      <td>Shirley Ratuwati</td>\n",
       "      <td>Wanita</td>\n",
       "      <td>14</td>\n",
       "      <td>Pelajar</td>\n",
       "      <td>Cluster</td>\n",
       "      <td>2722700</td>\n",
       "      <td>3</td>\n",
       "    </tr>\n",
       "    <tr>\n",
       "      <th>2</th>\n",
       "      <td>Agus Cahyono</td>\n",
       "      <td>Pria</td>\n",
       "      <td>48</td>\n",
       "      <td>Professional</td>\n",
       "      <td>Cluster</td>\n",
       "      <td>5286429</td>\n",
       "      <td>1</td>\n",
       "    </tr>\n",
       "    <tr>\n",
       "      <th>3</th>\n",
       "      <td>Antonius Winarta</td>\n",
       "      <td>Pria</td>\n",
       "      <td>53</td>\n",
       "      <td>Professional</td>\n",
       "      <td>Cluster</td>\n",
       "      <td>5204498</td>\n",
       "      <td>1</td>\n",
       "    </tr>\n",
       "    <tr>\n",
       "      <th>4</th>\n",
       "      <td>Ibu Sri Wahyuni, IR</td>\n",
       "      <td>Wanita</td>\n",
       "      <td>41</td>\n",
       "      <td>Wiraswasta</td>\n",
       "      <td>Cluster</td>\n",
       "      <td>10615206</td>\n",
       "      <td>0</td>\n",
       "    </tr>\n",
       "  </tbody>\n",
       "</table>\n",
       "</div>"
      ],
      "text/plain": [
       "        Nama Pelanggan Jenis Kelamin  ...  NilaiBelanjaSetahun segment\n",
       "0         Budi Anggara          Pria  ...              9497927       0\n",
       "1     Shirley Ratuwati        Wanita  ...              2722700       3\n",
       "2         Agus Cahyono          Pria  ...              5286429       1\n",
       "3     Antonius Winarta          Pria  ...              5204498       1\n",
       "4  Ibu Sri Wahyuni, IR        Wanita  ...             10615206       0\n",
       "\n",
       "[5 rows x 7 columns]"
      ]
     },
     "execution_count": 36,
     "metadata": {
      "tags": []
     },
     "output_type": "execute_result"
    }
   ],
   "source": [
    "# Menggabungkan data dengan hasil cluster\n",
    "results = pd.concat([customer_data, segment], axis=1)\n",
    "results.head()"
   ]
  },
  {
   "cell_type": "code",
   "execution_count": 37,
   "metadata": {
    "colab": {
     "base_uri": "https://localhost:8080/",
     "height": 202
    },
    "executionInfo": {
     "elapsed": 369,
     "status": "ok",
     "timestamp": 1629040274450,
     "user": {
      "displayName": "Rahayu Oktavia Putri",
      "photoUrl": "",
      "userId": "02165658332696555094"
     },
     "user_tz": -420
    },
    "id": "G0dzvWJGkE8o",
    "outputId": "5859e8f8-c762-450b-da3d-0c7ecc678a07"
   },
   "outputs": [
    {
     "data": {
      "text/html": [
       "<div>\n",
       "<style scoped>\n",
       "    .dataframe tbody tr th:only-of-type {\n",
       "        vertical-align: middle;\n",
       "    }\n",
       "\n",
       "    .dataframe tbody tr th {\n",
       "        vertical-align: top;\n",
       "    }\n",
       "\n",
       "    .dataframe thead th {\n",
       "        text-align: right;\n",
       "    }\n",
       "</style>\n",
       "<table border=\"1\" class=\"dataframe\">\n",
       "  <thead>\n",
       "    <tr style=\"text-align: right;\">\n",
       "      <th></th>\n",
       "      <th>Nama Pelanggan</th>\n",
       "      <th>Jenis Kelamin</th>\n",
       "      <th>Umur</th>\n",
       "      <th>Profesi</th>\n",
       "      <th>Tipe Residen</th>\n",
       "      <th>NilaiBelanjaSetahun</th>\n",
       "      <th>segment</th>\n",
       "    </tr>\n",
       "  </thead>\n",
       "  <tbody>\n",
       "    <tr>\n",
       "      <th>0</th>\n",
       "      <td>Budi Anggara</td>\n",
       "      <td>Pria</td>\n",
       "      <td>58</td>\n",
       "      <td>Wiraswasta</td>\n",
       "      <td>Sector</td>\n",
       "      <td>9497927</td>\n",
       "      <td>0</td>\n",
       "    </tr>\n",
       "    <tr>\n",
       "      <th>4</th>\n",
       "      <td>Ibu Sri Wahyuni, IR</td>\n",
       "      <td>Wanita</td>\n",
       "      <td>41</td>\n",
       "      <td>Wiraswasta</td>\n",
       "      <td>Cluster</td>\n",
       "      <td>10615206</td>\n",
       "      <td>0</td>\n",
       "    </tr>\n",
       "    <tr>\n",
       "      <th>6</th>\n",
       "      <td>Cahyono, Agus</td>\n",
       "      <td>Pria</td>\n",
       "      <td>64</td>\n",
       "      <td>Wiraswasta</td>\n",
       "      <td>Sector</td>\n",
       "      <td>9837260</td>\n",
       "      <td>0</td>\n",
       "    </tr>\n",
       "    <tr>\n",
       "      <th>12</th>\n",
       "      <td>Cahaya Putri</td>\n",
       "      <td>Wanita</td>\n",
       "      <td>64</td>\n",
       "      <td>Wiraswasta</td>\n",
       "      <td>Cluster</td>\n",
       "      <td>9333168</td>\n",
       "      <td>0</td>\n",
       "    </tr>\n",
       "    <tr>\n",
       "      <th>13</th>\n",
       "      <td>Mario Setiawan</td>\n",
       "      <td>Pria</td>\n",
       "      <td>60</td>\n",
       "      <td>Wiraswasta</td>\n",
       "      <td>Cluster</td>\n",
       "      <td>9471615</td>\n",
       "      <td>0</td>\n",
       "    </tr>\n",
       "  </tbody>\n",
       "</table>\n",
       "</div>"
      ],
      "text/plain": [
       "         Nama Pelanggan Jenis Kelamin  ...  NilaiBelanjaSetahun segment\n",
       "0          Budi Anggara          Pria  ...              9497927       0\n",
       "4   Ibu Sri Wahyuni, IR        Wanita  ...             10615206       0\n",
       "6         Cahyono, Agus          Pria  ...              9837260       0\n",
       "12         Cahaya Putri        Wanita  ...              9333168       0\n",
       "13       Mario Setiawan          Pria  ...              9471615       0\n",
       "\n",
       "[5 rows x 7 columns]"
      ]
     },
     "execution_count": 37,
     "metadata": {
      "tags": []
     },
     "output_type": "execute_result"
    }
   ],
   "source": [
    "# Menampilkan 5 data teratas dari cluster 0\n",
    "results[results[\"segment\"]==0][:5]"
   ]
  },
  {
   "cell_type": "code",
   "execution_count": 38,
   "metadata": {
    "colab": {
     "base_uri": "https://localhost:8080/",
     "height": 202
    },
    "executionInfo": {
     "elapsed": 372,
     "status": "ok",
     "timestamp": 1629040276879,
     "user": {
      "displayName": "Rahayu Oktavia Putri",
      "photoUrl": "",
      "userId": "02165658332696555094"
     },
     "user_tz": -420
    },
    "id": "6JANsA7jkE8o",
    "outputId": "15e04af6-a914-4ffa-dc9d-9c4f62edfb66"
   },
   "outputs": [
    {
     "data": {
      "text/html": [
       "<div>\n",
       "<style scoped>\n",
       "    .dataframe tbody tr th:only-of-type {\n",
       "        vertical-align: middle;\n",
       "    }\n",
       "\n",
       "    .dataframe tbody tr th {\n",
       "        vertical-align: top;\n",
       "    }\n",
       "\n",
       "    .dataframe thead th {\n",
       "        text-align: right;\n",
       "    }\n",
       "</style>\n",
       "<table border=\"1\" class=\"dataframe\">\n",
       "  <thead>\n",
       "    <tr style=\"text-align: right;\">\n",
       "      <th></th>\n",
       "      <th>Nama Pelanggan</th>\n",
       "      <th>Jenis Kelamin</th>\n",
       "      <th>Umur</th>\n",
       "      <th>Profesi</th>\n",
       "      <th>Tipe Residen</th>\n",
       "      <th>NilaiBelanjaSetahun</th>\n",
       "      <th>segment</th>\n",
       "    </tr>\n",
       "  </thead>\n",
       "  <tbody>\n",
       "    <tr>\n",
       "      <th>2</th>\n",
       "      <td>Agus Cahyono</td>\n",
       "      <td>Pria</td>\n",
       "      <td>48</td>\n",
       "      <td>Professional</td>\n",
       "      <td>Cluster</td>\n",
       "      <td>5286429</td>\n",
       "      <td>1</td>\n",
       "    </tr>\n",
       "    <tr>\n",
       "      <th>3</th>\n",
       "      <td>Antonius Winarta</td>\n",
       "      <td>Pria</td>\n",
       "      <td>53</td>\n",
       "      <td>Professional</td>\n",
       "      <td>Cluster</td>\n",
       "      <td>5204498</td>\n",
       "      <td>1</td>\n",
       "    </tr>\n",
       "    <tr>\n",
       "      <th>5</th>\n",
       "      <td>Rosalina Kurnia</td>\n",
       "      <td>Wanita</td>\n",
       "      <td>24</td>\n",
       "      <td>Professional</td>\n",
       "      <td>Cluster</td>\n",
       "      <td>5215541</td>\n",
       "      <td>1</td>\n",
       "    </tr>\n",
       "    <tr>\n",
       "      <th>7</th>\n",
       "      <td>Danang Santosa</td>\n",
       "      <td>Pria</td>\n",
       "      <td>52</td>\n",
       "      <td>Professional</td>\n",
       "      <td>Cluster</td>\n",
       "      <td>5223569</td>\n",
       "      <td>1</td>\n",
       "    </tr>\n",
       "    <tr>\n",
       "      <th>8</th>\n",
       "      <td>Elisabeth Suryadinata</td>\n",
       "      <td>Wanita</td>\n",
       "      <td>29</td>\n",
       "      <td>Professional</td>\n",
       "      <td>Sector</td>\n",
       "      <td>5993218</td>\n",
       "      <td>1</td>\n",
       "    </tr>\n",
       "  </tbody>\n",
       "</table>\n",
       "</div>"
      ],
      "text/plain": [
       "          Nama Pelanggan Jenis Kelamin  ...  NilaiBelanjaSetahun segment\n",
       "2           Agus Cahyono          Pria  ...              5286429       1\n",
       "3       Antonius Winarta          Pria  ...              5204498       1\n",
       "5        Rosalina Kurnia        Wanita  ...              5215541       1\n",
       "7         Danang Santosa          Pria  ...              5223569       1\n",
       "8  Elisabeth Suryadinata        Wanita  ...              5993218       1\n",
       "\n",
       "[5 rows x 7 columns]"
      ]
     },
     "execution_count": 38,
     "metadata": {
      "tags": []
     },
     "output_type": "execute_result"
    }
   ],
   "source": [
    "# Menampilkan 5 data teratas dari cluster 1\n",
    "results[results[\"segment\"]==1][:5]"
   ]
  },
  {
   "cell_type": "code",
   "execution_count": 39,
   "metadata": {
    "colab": {
     "base_uri": "https://localhost:8080/",
     "height": 202
    },
    "executionInfo": {
     "elapsed": 489,
     "status": "ok",
     "timestamp": 1629040278782,
     "user": {
      "displayName": "Rahayu Oktavia Putri",
      "photoUrl": "",
      "userId": "02165658332696555094"
     },
     "user_tz": -420
    },
    "id": "MF9VhtFYkE8o",
    "outputId": "300e9dfa-4ad3-4107-a635-35ef078130cb"
   },
   "outputs": [
    {
     "data": {
      "text/html": [
       "<div>\n",
       "<style scoped>\n",
       "    .dataframe tbody tr th:only-of-type {\n",
       "        vertical-align: middle;\n",
       "    }\n",
       "\n",
       "    .dataframe tbody tr th {\n",
       "        vertical-align: top;\n",
       "    }\n",
       "\n",
       "    .dataframe thead th {\n",
       "        text-align: right;\n",
       "    }\n",
       "</style>\n",
       "<table border=\"1\" class=\"dataframe\">\n",
       "  <thead>\n",
       "    <tr style=\"text-align: right;\">\n",
       "      <th></th>\n",
       "      <th>Nama Pelanggan</th>\n",
       "      <th>Jenis Kelamin</th>\n",
       "      <th>Umur</th>\n",
       "      <th>Profesi</th>\n",
       "      <th>Tipe Residen</th>\n",
       "      <th>NilaiBelanjaSetahun</th>\n",
       "      <th>segment</th>\n",
       "    </tr>\n",
       "  </thead>\n",
       "  <tbody>\n",
       "    <tr>\n",
       "      <th>16</th>\n",
       "      <td>Yuni Sari</td>\n",
       "      <td>Wanita</td>\n",
       "      <td>32</td>\n",
       "      <td>Ibu Rumah Tangga</td>\n",
       "      <td>Cluster</td>\n",
       "      <td>5677762</td>\n",
       "      <td>2</td>\n",
       "    </tr>\n",
       "    <tr>\n",
       "      <th>17</th>\n",
       "      <td>Nelly Halim</td>\n",
       "      <td>Wanita</td>\n",
       "      <td>63</td>\n",
       "      <td>Ibu Rumah Tangga</td>\n",
       "      <td>Cluster</td>\n",
       "      <td>5340690</td>\n",
       "      <td>2</td>\n",
       "    </tr>\n",
       "    <tr>\n",
       "      <th>27</th>\n",
       "      <td>Adeline Huang</td>\n",
       "      <td>Wanita</td>\n",
       "      <td>40</td>\n",
       "      <td>Ibu Rumah Tangga</td>\n",
       "      <td>Cluster</td>\n",
       "      <td>6631680</td>\n",
       "      <td>2</td>\n",
       "    </tr>\n",
       "    <tr>\n",
       "      <th>29</th>\n",
       "      <td>Rosita Saragih</td>\n",
       "      <td>Wanita</td>\n",
       "      <td>46</td>\n",
       "      <td>Ibu Rumah Tangga</td>\n",
       "      <td>Sector</td>\n",
       "      <td>5020976</td>\n",
       "      <td>2</td>\n",
       "    </tr>\n",
       "    <tr>\n",
       "      <th>40</th>\n",
       "      <td>Shinta Aritonang</td>\n",
       "      <td>Wanita</td>\n",
       "      <td>24</td>\n",
       "      <td>Ibu Rumah Tangga</td>\n",
       "      <td>Cluster</td>\n",
       "      <td>6820976</td>\n",
       "      <td>2</td>\n",
       "    </tr>\n",
       "  </tbody>\n",
       "</table>\n",
       "</div>"
      ],
      "text/plain": [
       "      Nama Pelanggan Jenis Kelamin  ...  NilaiBelanjaSetahun segment\n",
       "16         Yuni Sari        Wanita  ...              5677762       2\n",
       "17       Nelly Halim        Wanita  ...              5340690       2\n",
       "27     Adeline Huang        Wanita  ...              6631680       2\n",
       "29    Rosita Saragih        Wanita  ...              5020976       2\n",
       "40  Shinta Aritonang        Wanita  ...              6820976       2\n",
       "\n",
       "[5 rows x 7 columns]"
      ]
     },
     "execution_count": 39,
     "metadata": {
      "tags": []
     },
     "output_type": "execute_result"
    }
   ],
   "source": [
    "# Menampilkan 5 data teratas dari cluster 2\n",
    "results[results[\"segment\"]==2][:5]"
   ]
  },
  {
   "cell_type": "code",
   "execution_count": 40,
   "metadata": {
    "colab": {
     "base_uri": "https://localhost:8080/",
     "height": 202
    },
    "executionInfo": {
     "elapsed": 313,
     "status": "ok",
     "timestamp": 1629040293899,
     "user": {
      "displayName": "Rahayu Oktavia Putri",
      "photoUrl": "",
      "userId": "02165658332696555094"
     },
     "user_tz": -420
    },
    "id": "nJTglcyyXgxg",
    "outputId": "9c0c6dab-b769-48e9-a3aa-61c7c77fa8b9"
   },
   "outputs": [
    {
     "data": {
      "text/html": [
       "<div>\n",
       "<style scoped>\n",
       "    .dataframe tbody tr th:only-of-type {\n",
       "        vertical-align: middle;\n",
       "    }\n",
       "\n",
       "    .dataframe tbody tr th {\n",
       "        vertical-align: top;\n",
       "    }\n",
       "\n",
       "    .dataframe thead th {\n",
       "        text-align: right;\n",
       "    }\n",
       "</style>\n",
       "<table border=\"1\" class=\"dataframe\">\n",
       "  <thead>\n",
       "    <tr style=\"text-align: right;\">\n",
       "      <th></th>\n",
       "      <th>Nama Pelanggan</th>\n",
       "      <th>Jenis Kelamin</th>\n",
       "      <th>Umur</th>\n",
       "      <th>Profesi</th>\n",
       "      <th>Tipe Residen</th>\n",
       "      <th>NilaiBelanjaSetahun</th>\n",
       "      <th>segment</th>\n",
       "    </tr>\n",
       "  </thead>\n",
       "  <tbody>\n",
       "    <tr>\n",
       "      <th>1</th>\n",
       "      <td>Shirley Ratuwati</td>\n",
       "      <td>Wanita</td>\n",
       "      <td>14</td>\n",
       "      <td>Pelajar</td>\n",
       "      <td>Cluster</td>\n",
       "      <td>2722700</td>\n",
       "      <td>3</td>\n",
       "    </tr>\n",
       "    <tr>\n",
       "      <th>19</th>\n",
       "      <td>Irene Novianto</td>\n",
       "      <td>Wanita</td>\n",
       "      <td>16</td>\n",
       "      <td>Pelajar</td>\n",
       "      <td>Sector</td>\n",
       "      <td>2896845</td>\n",
       "      <td>3</td>\n",
       "    </tr>\n",
       "    <tr>\n",
       "      <th>30</th>\n",
       "      <td>Eviana Handry</td>\n",
       "      <td>Wanita</td>\n",
       "      <td>19</td>\n",
       "      <td>Mahasiswa</td>\n",
       "      <td>Cluster</td>\n",
       "      <td>3042773</td>\n",
       "      <td>3</td>\n",
       "    </tr>\n",
       "    <tr>\n",
       "      <th>32</th>\n",
       "      <td>Cecilia Kusnadi</td>\n",
       "      <td>Wanita</td>\n",
       "      <td>19</td>\n",
       "      <td>Mahasiswa</td>\n",
       "      <td>Cluster</td>\n",
       "      <td>3047926</td>\n",
       "      <td>3</td>\n",
       "    </tr>\n",
       "    <tr>\n",
       "      <th>39</th>\n",
       "      <td>Irene Darmawan</td>\n",
       "      <td>Wanita</td>\n",
       "      <td>14</td>\n",
       "      <td>Pelajar</td>\n",
       "      <td>Sector</td>\n",
       "      <td>2861855</td>\n",
       "      <td>3</td>\n",
       "    </tr>\n",
       "  </tbody>\n",
       "</table>\n",
       "</div>"
      ],
      "text/plain": [
       "      Nama Pelanggan Jenis Kelamin  ...  NilaiBelanjaSetahun segment\n",
       "1   Shirley Ratuwati        Wanita  ...              2722700       3\n",
       "19    Irene Novianto        Wanita  ...              2896845       3\n",
       "30     Eviana Handry        Wanita  ...              3042773       3\n",
       "32   Cecilia Kusnadi        Wanita  ...              3047926       3\n",
       "39    Irene Darmawan        Wanita  ...              2861855       3\n",
       "\n",
       "[5 rows x 7 columns]"
      ]
     },
     "execution_count": 40,
     "metadata": {
      "tags": []
     },
     "output_type": "execute_result"
    }
   ],
   "source": [
    "# Menampilkan 5 data teratas dari cluster 3\n",
    "results[results[\"segment\"]==3][:5]"
   ]
  },
  {
   "cell_type": "markdown",
   "metadata": {
    "id": "GRYYM_r0XnjC"
   },
   "source": [
    "## EDA\n",
    "Selanjutnya setelah menentukan segmentasi pelanggan akan dilakukan analisa pada masing-masing cluster. Bagaimana kondisi dari cluster 0, cluster 1, cluster 2 dan juga cluster 3.\n",
    "<br>\n",
    "<br>\n",
    "**Bagaimana persebaran usia pada tiap cluster ?**"
   ]
  },
  {
   "cell_type": "code",
   "execution_count": 41,
   "metadata": {
    "colab": {
     "base_uri": "https://localhost:8080/",
     "height": 296
    },
    "executionInfo": {
     "elapsed": 334,
     "status": "ok",
     "timestamp": 1629040391394,
     "user": {
      "displayName": "Rahayu Oktavia Putri",
      "photoUrl": "",
      "userId": "02165658332696555094"
     },
     "user_tz": -420
    },
    "id": "N8Hn32k0kE8o",
    "outputId": "cdee76aa-7d51-4ed7-e850-3fbd71ba0ce4"
   },
   "outputs": [
    {
     "data": {
      "text/plain": [
       "<matplotlib.axes._subplots.AxesSubplot at 0x7ff48ed4d210>"
      ]
     },
     "execution_count": 41,
     "metadata": {
      "tags": []
     },
     "output_type": "execute_result"
    },
    {
     "data": {
      "image/png": "[encoded data removed]",
      "text/plain": [
       "<Figure size 432x288 with 1 Axes>"
      ]
     },
     "metadata": {
      "needs_background": "light",
      "tags": []
     },
     "output_type": "display_data"
    }
   ],
   "source": [
    "# Pengelompokan customer berdasarkan usia\n",
    "sns.boxplot(x=results[\"segment\"], y=results[\"Umur\"], data=results)"
   ]
  },
  {
   "cell_type": "markdown",
   "metadata": {
    "id": "2oAM3G4KYQK3"
   },
   "source": [
    "Dari usia diketahui bahwa perbedaan yang laing mencolok berada di cluster 3 dimana range usia dalam cluster tersebut < 20 tahun dengan kata lain terdiri dari anak-anak muda. Sedangkan range usia yang paling bervariasi terletak pada cluster 0, sedangkan dua sisanya hampir sama, yaitu terdiri dari usia dewasa hingga manula.\n",
    "<br>\n",
    "<br>\n",
    "**Lalu bagaimana dengan persebaran profesi pada tiap cluster?**"
   ]
  },
  {
   "cell_type": "code",
   "execution_count": 48,
   "metadata": {
    "colab": {
     "base_uri": "https://localhost:8080/",
     "height": 404
    },
    "executionInfo": {
     "elapsed": 380,
     "status": "ok",
     "timestamp": 1629041143673,
     "user": {
      "displayName": "Rahayu Oktavia Putri",
      "photoUrl": "",
      "userId": "02165658332696555094"
     },
     "user_tz": -420
    },
    "id": "fMKKu0VwZSXl",
    "outputId": "3886a68b-090b-46fb-b090-0fab92027a2c"
   },
   "outputs": [
    {
     "data": {
      "image/png": "[encoded data removed]",
      "text/plain": [
       "<Figure size 1080x432 with 1 Axes>"
      ]
     },
     "metadata": {
      "needs_background": "light",
      "tags": []
     },
     "output_type": "display_data"
    }
   ],
   "source": [
    "plt.figure(figsize=(15,6))\n",
    "sns.countplot(x=\"segment\", data=results, hue=\"Profesi\")\n",
    "plt.title(\"Jumlah Cluster Berdasarkan Profesi\")\n",
    "plt.xlabel(\"Cluster\")\n",
    "plt.ylabel(\"Jumlah Customer\")\n",
    "plt.show()"
   ]
  },
  {
   "cell_type": "markdown",
   "metadata": {
    "id": "Y_ZfcS-Ka0SU"
   },
   "source": [
    "Ada perbedaan yang cukup mencolok apabila dilihat dari pengaruh profesi. Dari visualisasi diatas diketahui bahwa :\n",
    "- Cluster 0 : Profesi yang dominan dalam cluster ini adalah Wiraswasta, tidak ada profesi lain didalamnya. Apabila dilihat dari persebaran usia maka terdapat keterkaitan karena range usia berada di kurang dari 20 hingga 60'an tahun.\n",
    "- Cluster 1 : Dalam cluster ini satu-satunya profesi adalah profesional, jika ditarik garis kembali dengan usia maka cukup masuk akal, karena persebaran usia berada di range 20 hingga < 60 tahun.\n",
    "- Cluster 2 : Pada cluster ini, profesi yang tercatat adalah ibu rumah tangga.\n",
    "- Cluster 3 : Berbeda dengan lainnya, dengan range usia pada cluster 3 yaitu < 20 tahun, profesi yang tercatat dalam cluster ini adalah pelajar dan mahasiswa.\n",
    "\n",
    "Melihat analisa cluster dengan 2 variabel sebelumnya, maka akan dicari tahu **Berapa total pengeluaran pada masing-masing cluster? Apakah terdapat perbedaan yang signifikan?**"
   ]
  },
  {
   "cell_type": "code",
   "execution_count": 49,
   "metadata": {
    "colab": {
     "base_uri": "https://localhost:8080/",
     "height": 307
    },
    "executionInfo": {
     "elapsed": 362,
     "status": "ok",
     "timestamp": 1629041797097,
     "user": {
      "displayName": "Rahayu Oktavia Putri",
      "photoUrl": "",
      "userId": "02165658332696555094"
     },
     "user_tz": -420
    },
    "id": "uYnEHKKSkE8p",
    "outputId": "b8e18ef4-043e-4a13-919e-b42aee4d2ac7"
   },
   "outputs": [
    {
     "data": {
      "text/plain": [
       "<matplotlib.axes._subplots.AxesSubplot at 0x7ff48e8509d0>"
      ]
     },
     "execution_count": 49,
     "metadata": {
      "tags": []
     },
     "output_type": "execute_result"
    },
    {
     "data": {
      "image/png": "[encoded data removed]",
      "text/plain": [
       "<Figure size 432x288 with 1 Axes>"
      ]
     },
     "metadata": {
      "needs_background": "light",
      "tags": []
     },
     "output_type": "display_data"
    }
   ],
   "source": [
    "# Pengelompokan customer berdasarkan nilai belanja setahun\n",
    "sns.boxplot(x=results[\"segment\"], y=results[\"NilaiBelanjaSetahun\"], data=results)"
   ]
  },
  {
   "cell_type": "markdown",
   "metadata": {
    "id": "4T93XL-Teki0"
   },
   "source": [
    "Berdasarkan Total Belanja Setahun\n",
    "- Cluster 0 memiliki kecendurungan pengeluaran lebih tinggi dibanding dengan lainnya. Perbedaannya-pun cukup signifikan.\n",
    "- Cluster 1 memiliki pengeluaran dikisaran $0.5 x 10^7 - 0.6 x 10^7$ dollar.\n",
    "- Cluster 2 memiliki pengeluaran dikisaran $0.5 x 10^7 - 0.7 x 10^7$ dollar. Sedikit lebih tinggi dibandingkan dengan cluster 1.\n",
    "- Cluster 3 memiliki pengeluaran $< 0.4 x 10^7$ dollar, paling rendah dibanding cluster lainnya.\n",
    "\n",
    "**Visualisasi keterkaitan anatar Nilai Belanja Setahun dengan Usia**"
   ]
  },
  {
   "cell_type": "code",
   "execution_count": 51,
   "metadata": {
    "colab": {
     "base_uri": "https://localhost:8080/",
     "height": 307
    },
    "executionInfo": {
     "elapsed": 1042,
     "status": "ok",
     "timestamp": 1629042088019,
     "user": {
      "displayName": "Rahayu Oktavia Putri",
      "photoUrl": "",
      "userId": "02165658332696555094"
     },
     "user_tz": -420
    },
    "id": "pBLSMd5mkE8p",
    "outputId": "852074f1-f220-4da1-8016-4bc9055b88e8"
   },
   "outputs": [
    {
     "data": {
      "text/plain": [
       "<matplotlib.axes._subplots.AxesSubplot at 0x7ff48e77c0d0>"
      ]
     },
     "execution_count": 51,
     "metadata": {
      "tags": []
     },
     "output_type": "execute_result"
    },
    {
     "data": {
      "image/png": "[encoded data removed]",
      "text/plain": [
       "<Figure size 432x288 with 1 Axes>"
      ]
     },
     "metadata": {
      "needs_background": "light",
      "tags": []
     },
     "output_type": "display_data"
    }
   ],
   "source": [
    "# Plot customer berdasarkan usia dengan menggunakan scatter plot\n",
    "sns.scatterplot(x=results[results[\"segment\"]==0].Umur, y=results[results[\"segment\"]==0].NilaiBelanjaSetahun, color=\"red\")\n",
    "sns.scatterplot(x=results[results[\"segment\"]==1].Umur, y=results[results[\"segment\"]==1].NilaiBelanjaSetahun, color=\"green\")\n",
    "sns.scatterplot(x=results[results[\"segment\"]==2].Umur, y=results[results[\"segment\"]==2].NilaiBelanjaSetahun, color=\"blue\")\n",
    "sns.scatterplot(x=results[results[\"segment\"]==3].Umur, y=results[results[\"segment\"]==3].NilaiBelanjaSetahun, color=\"yellow\")"
   ]
  },
  {
   "cell_type": "markdown",
   "metadata": {
    "id": "wEvuaPv0gZUF"
   },
   "source": [
    "Dari analisa yang dilakukan maka didapat informasi bahwa \n",
    "- Kelompok pertama yaitu cluster 0 merupakan kelompok dengan pengeluaran tahunan yang paling tinggi dibanding yang lainnya, oleh karena itu dapat dikatakan bahwa wiraswasta lebih konsumtif dibandingkan dengan profesi-profesi lainnya.\n",
    "- Kelompok kedua yaitu cluster 1 adalah kelompok dengan profesi sebagai profesional dan memiliki pengeluaran cukup rendah dibanding orang-orang seusianya.\n",
    "- Kelompok ketiga yaitu cluster 2 adalah kelompok yang memiliki penghasilan terbesar kedua, dengan melihat kembali profesi dalam kelompok ini dapat dikatakan bahwa seorang ibu rumah tangga memiliki pengeluaran yang rumayan tinggi, hal ini bisa saja dikarenakan karena keperluan rumah tangga.\n",
    "- Kelompok keempat adalah kelompok yang memiliki pengeluaran paling rendah, hal ini dikarenakan kelompok ini terdiri dari pelajar dan mahasiswa dimana pengeluaran mereka masih belum terlalu banyak.\n"
   ]
  },
  {
   "cell_type": "code",
   "execution_count": null,
   "metadata": {
    "id": "E08Dfyi3i9Tb"
   },
   "outputs": [],
   "source": []
  }
 ],
 "metadata": {
  "colab": {
   "collapsed_sections": [],
   "name": "Revisi Clustering K-means.ipynb",
   "provenance": [
    {
     "file_id": "1NfmaTe2GRzuHJJdKa70OvL8H9riKd0ha",
     "timestamp": 1613222681364
    }
   ],
   "toc_visible": true
  },
  "kernelspec": {
   "display_name": "Python 3",
   "language": "python",
   "name": "python3"
  },
  "language_info": {
   "codemirror_mode": {
    "name": "ipython",
    "version": 3
   },
   "file_extension": ".py",
   "mimetype": "text/x-python",
   "name": "python",
   "nbconvert_exporter": "python",
   "pygments_lexer": "ipython3",
   "version": "3.8.3"
  }
 },
 "nbformat": 4,
 "nbformat_minor": 1
}
